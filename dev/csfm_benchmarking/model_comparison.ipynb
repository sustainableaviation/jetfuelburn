{
 "cells": [
  {
   "cell_type": "markdown",
   "id": "b8d96a41",
   "metadata": {},
   "source": [
    "# Notebook for Benchmarking all different JetFuelBurn models"
   ]
  },
  {
   "cell_type": "code",
   "execution_count": 1,
   "id": "21aeb898",
   "metadata": {},
   "outputs": [],
   "source": [
    "import jetfuelburn\n",
    "from jetfuelburn import ureg\n",
    "from jetfuelburn.aux.allocation import footprint_allocation_by_area"
   ]
  },
  {
   "cell_type": "code",
   "execution_count": 2,
   "id": "213c33b6",
   "metadata": {},
   "outputs": [],
   "source": [
    "co2_factor = 3.16  # kg CO2 per kg fuel"
   ]
  },
  {
   "cell_type": "markdown",
   "id": "8f68d2d5",
   "metadata": {},
   "source": [
    "## Airline Values for Comparison\n",
    "\n",
    "Calculating the CO2 emissions per Economy PAX based on the total fuel burn values from Airline OFP"
   ]
  },
  {
   "cell_type": "markdown",
   "id": "e8f979aa",
   "metadata": {},
   "source": [
    "#### A220-300, GVA-ARN, 997NM"
   ]
  },
  {
   "cell_type": "code",
   "execution_count": 3,
   "id": "e8892fe1",
   "metadata": {},
   "outputs": [
    {
     "name": "stdout",
     "output_type": "stream",
     "text": [
      "CO2 emissions per PAX 117.93572373599507 kilogram\n"
     ]
    }
   ],
   "source": [
    "a220_fuel = 135 + 4322 # taxi and trip fuel in kg from Airline OFP\n",
    "\n",
    "a220_cabin_class_fuel = footprint_allocation_by_area(\n",
    "    fuel_per_flight=a220_fuel*ureg.kg, \n",
    "    # Standard parameters for narrow-body aircraft\n",
    "    size_factor_eco=1,\n",
    "    size_factor_premiumeco=0,\n",
    "    size_factor_business=1.5,\n",
    "    size_factor_first=0,\n",
    "    # Seat configuration for A220-300\n",
    "    seats_eco=115,\n",
    "    seats_premiumeco=0,\n",
    "    seats_business=18,\n",
    "    seats_first=0,\n",
    "    load_factor_eco=0.841,\n",
    "    load_factor_premiumeco=0,\n",
    "    load_factor_business=0.841,\n",
    "    load_factor_first=0,\n",
    ")\n",
    "print(\"CO2 emissions per PAX\",a220_cabin_class_fuel['fuel_eco'] * co2_factor)"
   ]
  },
  {
   "cell_type": "markdown",
   "id": "60073db8",
   "metadata": {},
   "source": [
    "#### A320neo, ATH-ZRH, 994 NM"
   ]
  },
  {
   "cell_type": "code",
   "execution_count": 4,
   "id": "2ecc1bfc",
   "metadata": {},
   "outputs": [
    {
     "name": "stdout",
     "output_type": "stream",
     "text": [
      "CO2 emissions per PAX 100.97053771964593 kilogram\n"
     ]
    }
   ],
   "source": [
    "a320neo_fuel = 180 + 4657 # taxi and trip fuel in kg from Airline OFP\n",
    "\n",
    "a320neo_cabin_class_fuel = footprint_allocation_by_area(\n",
    "    fuel_per_flight=a320neo_fuel*ureg.kg,\n",
    "    # Standard parameters for narrow-body aircraft\n",
    "    size_factor_eco=1,\n",
    "    size_factor_premiumeco=0,\n",
    "    size_factor_business=1.5,\n",
    "    size_factor_first=0,\n",
    "    # Seat configuration for A320neo\n",
    "    seats_eco=150,\n",
    "    seats_premiumeco=0,\n",
    "    seats_business=20,\n",
    "    seats_first=0,\n",
    "    load_factor_eco=0.841,\n",
    "    load_factor_premiumeco=0,\n",
    "    load_factor_business=0.841,\n",
    "    load_factor_first=0,\n",
    ")\n",
    "print(\"CO2 emissions per PAX\",a320neo_cabin_class_fuel['fuel_eco'] * co2_factor)"
   ]
  },
  {
   "cell_type": "markdown",
   "id": "86ce818b",
   "metadata": {},
   "source": [
    "#### A330-300, JFK-ZRH, 3521NM"
   ]
  },
  {
   "cell_type": "code",
   "execution_count": 5,
   "id": "057081e5",
   "metadata": {},
   "outputs": [
    {
     "name": "stdout",
     "output_type": "stream",
     "text": [
      "CO2 emissions per PAX 376.90861936192 kilogram\n"
     ]
    }
   ],
   "source": [
    "a330_fuel = 250 + 40175 # taxi and trip fuel in kg from Airline OFP\n",
    "\n",
    "a330_cabin_class_fuel = footprint_allocation_by_area(\n",
    "    fuel_per_flight=a330_fuel*ureg.kg,\n",
    "    # Standard parameters for wide-body aircraft\n",
    "    size_factor_eco=1,\n",
    "    size_factor_premiumeco=1.5,\n",
    "    size_factor_business=4.0,\n",
    "    size_factor_first=5.0,\n",
    "    # Seat configuration for A330-300\n",
    "    seats_eco=183,\n",
    "    seats_premiumeco=0,\n",
    "    seats_business=45,\n",
    "    seats_first=8,\n",
    "    load_factor_eco=0.841,\n",
    "    load_factor_premiumeco=0,\n",
    "    load_factor_business=0.841,\n",
    "    load_factor_first=0.841,\n",
    ")\n",
    "print(\"CO2 emissions per PAX\",a330_cabin_class_fuel['fuel_eco'] * co2_factor)"
   ]
  },
  {
   "cell_type": "markdown",
   "id": "32a61b4f",
   "metadata": {},
   "source": [
    "#### A340-300, ICN-ZRH, 5601NM"
   ]
  },
  {
   "cell_type": "code",
   "execution_count": 6,
   "id": "1dec5ff0",
   "metadata": {},
   "outputs": [
    {
     "name": "stdout",
     "output_type": "stream",
     "text": [
      "CO2 emissions per PAX 754.7097808376755 kilogram\n"
     ]
    }
   ],
   "source": [
    "a340_fuel = 390 + 76639 # taxi and trip fuel in kg from Airline OFP\n",
    "\n",
    "a340_cabin_class_fuel = footprint_allocation_by_area(\n",
    "    fuel_per_flight=a340_fuel*ureg.kg,\n",
    "    # Standard parameters for wide-body aircraft\n",
    "    size_factor_eco=1,\n",
    "    size_factor_premiumeco=1.5,\n",
    "    size_factor_business=4.0,\n",
    "    size_factor_first=5.0,\n",
    "    # Seat configuration for A340-300\n",
    "    seats_eco=144,\n",
    "    seats_premiumeco=21,\n",
    "    seats_business=42,\n",
    "    seats_first=8,\n",
    "    load_factor_eco=0.841,\n",
    "    load_factor_premiumeco=0.841,\n",
    "    load_factor_business=0.841,\n",
    "    load_factor_first=0.841,\n",
    ")\n",
    "print(\"CO2 emissions per PAX\",a340_cabin_class_fuel['fuel_eco'] * co2_factor)"
   ]
  },
  {
   "cell_type": "markdown",
   "id": "e6667c5a",
   "metadata": {},
   "source": [
    "#### B777-300ER, SFO-ZRH, 5210NM"
   ]
  },
  {
   "cell_type": "code",
   "execution_count": 7,
   "id": "b0c9d07c",
   "metadata": {},
   "outputs": [
    {
     "name": "stdout",
     "output_type": "stream",
     "text": [
      "CO2 emissions per PAX 559.4815695600477 kilogram\n"
     ]
    }
   ],
   "source": [
    "b777_fuel = 525 + 81370 # taxi and trip fuel in kg from Airline OFP\n",
    "\n",
    "b777_cabin_class_fuel = footprint_allocation_by_area(\n",
    "    fuel_per_flight=b777_fuel*ureg.kg,\n",
    "    # Standard parameters for wide-body aircraft\n",
    "    size_factor_eco=1,\n",
    "    size_factor_premiumeco=1.5,\n",
    "    size_factor_business=4.0,\n",
    "    size_factor_first=5.0,\n",
    "    # Seat configuration for B777-300ER\n",
    "    seats_eco=226,\n",
    "    seats_premiumeco=24,\n",
    "    seats_business=62,\n",
    "    seats_first=8,\n",
    "    load_factor_eco=0.841,\n",
    "    load_factor_premiumeco=0.841,\n",
    "    load_factor_business=0.841,\n",
    "    load_factor_first=0.841,\n",
    ")\n",
    "print(\"CO2 emissions per PAX\",b777_cabin_class_fuel['fuel_eco'] * co2_factor)"
   ]
  },
  {
   "cell_type": "markdown",
   "id": "727ebcfd",
   "metadata": {},
   "source": [
    "## Statistics Models"
   ]
  },
  {
   "cell_type": "markdown",
   "id": "da071166",
   "metadata": {},
   "source": [
    "### US DOT"
   ]
  },
  {
   "cell_type": "code",
   "execution_count": 8,
   "id": "393a9dbc",
   "metadata": {},
   "outputs": [],
   "source": [
    "from jetfuelburn.statistics import usdot"
   ]
  },
  {
   "cell_type": "markdown",
   "id": "a6008e67",
   "metadata": {},
   "source": [
    "#### A220-300, GVA-ARN, 997NM"
   ]
  },
  {
   "cell_type": "code",
   "execution_count": 9,
   "id": "669745cb",
   "metadata": {},
   "outputs": [
    {
     "name": "stdout",
     "output_type": "stream",
     "text": [
      "CO2 emissions per PAX 210.1201960517652 kilogram\n"
     ]
    }
   ],
   "source": [
    "a220_300_fuel = usdot.calculate_fuel_consumption_per_weight(\n",
    "    year=2024,\n",
    "    acft='A220-300 BD-500-1A11',\n",
    "    R=997 * ureg.nmi,\n",
    "    W=11500 * ureg.kg # payload adjusted to pax load of 109 passengers and 1t of cargo\n",
    ")\n",
    "\n",
    "a220_cabin_class_fuel = footprint_allocation_by_area(\n",
    "    fuel_per_flight=a220_300_fuel,\n",
    "    # Standard parameters for narrow-body aircraft\n",
    "    size_factor_eco=1,\n",
    "    size_factor_premiumeco=0,\n",
    "    size_factor_business=1.5,\n",
    "    size_factor_first=0,\n",
    "    # Seat configuration for A220-300\n",
    "    seats_eco=115,\n",
    "    seats_premiumeco=0,\n",
    "    seats_business=18,\n",
    "    seats_first=0,\n",
    "    load_factor_eco=0.841,\n",
    "    load_factor_premiumeco=0,\n",
    "    load_factor_business=0.841,\n",
    "    load_factor_first=0,\n",
    ")\n",
    "print(\"CO2 emissions per PAX\",a220_cabin_class_fuel['fuel_eco'] * co2_factor)"
   ]
  },
  {
   "cell_type": "markdown",
   "id": "1e925ac7",
   "metadata": {},
   "source": [
    "#### A320neo, ATH-ZRH, 994NM"
   ]
  },
  {
   "cell_type": "code",
   "execution_count": 10,
   "id": "42713482",
   "metadata": {},
   "outputs": [
    {
     "name": "stdout",
     "output_type": "stream",
     "text": [
      "CO2 emissions per PAX 141.16726549472799 kilogram\n"
     ]
    }
   ],
   "source": [
    "a320neo_fuel = usdot.calculate_fuel_consumption_per_weight(\n",
    "    year=2024,\n",
    "    acft='Airbus Industrie A320-200n',\n",
    "    R=994 * ureg.nmi,\n",
    "    W=14500 * ureg.kg # payload adjusted to pax load of 143 passengers and 1t of cargo\n",
    ")\n",
    "a320neo_cabin_class_fuel = footprint_allocation_by_area(\n",
    "    fuel_per_flight=a320neo_fuel,\n",
    "    # Standard parameters for narrow-body aircraft\n",
    "    size_factor_eco=1,\n",
    "    size_factor_premiumeco=0,\n",
    "    size_factor_business=1.5,\n",
    "    size_factor_first=0,\n",
    "    # Seat configuration for A320neo\n",
    "    seats_eco=150,\n",
    "    seats_premiumeco=0,\n",
    "    seats_business=20,\n",
    "    seats_first=0,\n",
    "    load_factor_eco=0.841,\n",
    "    load_factor_premiumeco=0,\n",
    "    load_factor_business=0.841,\n",
    "    load_factor_first=0,\n",
    ")\n",
    "print(\"CO2 emissions per PAX\",a320neo_cabin_class_fuel['fuel_eco'] * co2_factor)"
   ]
  },
  {
   "cell_type": "markdown",
   "id": "ec2b61e6",
   "metadata": {},
   "source": [
    "#### A330-300, JFK-ZRH, 3521NM"
   ]
  },
  {
   "cell_type": "code",
   "execution_count": 11,
   "id": "268f2ab6",
   "metadata": {},
   "outputs": [
    {
     "name": "stdout",
     "output_type": "stream",
     "text": [
      "CO2 emissions per PAX 480.70598741198614 kilogram\n"
     ]
    }
   ],
   "source": [
    "a330_300_fuel = usdot.calculate_fuel_consumption_per_weight(\n",
    "    year=2024,\n",
    "    acft='Airbus Industrie A330-300/333',\n",
    "    R=3521 * ureg.nmi,\n",
    "    W=26000 * ureg.kg\n",
    ")\n",
    "a330_cabin_class_fuel = footprint_allocation_by_area(\n",
    "    fuel_per_flight=a330_300_fuel,\n",
    "    # Standard parameters for wide-body aircraft\n",
    "    size_factor_eco=1,\n",
    "    size_factor_premiumeco=1.5,\n",
    "    size_factor_business=4.0,\n",
    "    size_factor_first=5.0,\n",
    "    # Seat configuration for A330-300\n",
    "    seats_eco=183,\n",
    "    seats_premiumeco=0,\n",
    "    seats_business=45,\n",
    "    seats_first=8,\n",
    "    load_factor_eco=0.841,\n",
    "    load_factor_premiumeco=0,\n",
    "    load_factor_business=0.841,\n",
    "    load_factor_first=0.841,\n",
    ")\n",
    "print(\"CO2 emissions per PAX\",a330_cabin_class_fuel['fuel_eco'] * co2_factor)"
   ]
  },
  {
   "cell_type": "markdown",
   "id": "65013f44",
   "metadata": {},
   "source": [
    "#### A340-300, ICN-ZRH, 5601NM\n",
    "\n",
    "*not present in US DOT data*"
   ]
  },
  {
   "cell_type": "markdown",
   "id": "8779e17c",
   "metadata": {},
   "source": [
    "#### B777-300ER, SFO-ZRH, 5210NM"
   ]
  },
  {
   "cell_type": "code",
   "execution_count": 12,
   "id": "66a51265",
   "metadata": {},
   "outputs": [
    {
     "name": "stdout",
     "output_type": "stream",
     "text": [
      "CO2 emissions per PAX 705.927609960742 kilogram\n"
     ]
    }
   ],
   "source": [
    "b777_300er_fuel = usdot.calculate_fuel_consumption_per_weight(\n",
    "    year=2024,\n",
    "    acft='Boeing 777-300/300ER/333ER',\n",
    "    R=5210 * ureg.nmi,\n",
    "    W=38500 * ureg.kg\n",
    ")\n",
    "b777_cabin_class_fuel = footprint_allocation_by_area(\n",
    "    fuel_per_flight=b777_300er_fuel,\n",
    "    # Standard parameters for wide-body aircraft\n",
    "    size_factor_eco=1,\n",
    "    size_factor_premiumeco=1.5,\n",
    "    size_factor_business=4.0,\n",
    "    size_factor_first=5.0,\n",
    "    # Seat configuration for B777-300ER\n",
    "    seats_eco=226,\n",
    "    seats_premiumeco=24,\n",
    "    seats_business=62,\n",
    "    seats_first=8,\n",
    "    load_factor_eco=0.841,\n",
    "    load_factor_premiumeco=0.841,\n",
    "    load_factor_business=0.841,\n",
    "    load_factor_first=0.841,\n",
    ")\n",
    "print(\"CO2 emissions per PAX\",b777_cabin_class_fuel['fuel_eco'] * co2_factor)"
   ]
  },
  {
   "cell_type": "markdown",
   "id": "b5872348",
   "metadata": {},
   "source": [
    "## Reduced Order Models"
   ]
  },
  {
   "cell_type": "markdown",
   "id": "fb660d4f",
   "metadata": {},
   "source": [
    "### aim2015"
   ]
  },
  {
   "cell_type": "code",
   "execution_count": 13,
   "id": "0e722759",
   "metadata": {},
   "outputs": [],
   "source": [
    "from jetfuelburn.reducedorder import aim2015"
   ]
  },
  {
   "cell_type": "markdown",
   "id": "277cbf3b",
   "metadata": {},
   "source": [
    "#### A220-300, GVA-ARN, 997NM\n",
    "\n",
    "*not included as reference aircraft in model*"
   ]
  },
  {
   "cell_type": "markdown",
   "id": "7b929b9a",
   "metadata": {},
   "source": [
    "#### A320neo, ATH-ZRH, 994NM\n",
    "\n",
    "*not included as reference aircraft in model*"
   ]
  },
  {
   "cell_type": "markdown",
   "id": "9466ae63",
   "metadata": {},
   "source": [
    "#### A330-300, JFK-ZRH, 3521NM"
   ]
  },
  {
   "cell_type": "code",
   "execution_count": 14,
   "id": "f640c0e9",
   "metadata": {},
   "outputs": [
    {
     "name": "stdout",
     "output_type": "stream",
     "text": [
      "CO2 emissions per PAX 336.00685642793866 kilogram\n"
     ]
    }
   ],
   "source": [
    "# --- Inputs / constants (A330-300 / size class 7) ---\n",
    "TOTAL_DIST_NM_A333   = 3521 * ureg.nautical_mile   # JFK-ZRH mission length in NM\n",
    "D_CLIMB_A333         = 287 * ureg.km               # WRAP Table 1 (A333) average top-of-climb distance\n",
    "D_DESCENT_A333       = 284 * ureg.km               # WRAP Table 1 (A333) average top-of-descent distance\n",
    "PL_A333              = 26000 * ureg.kg             # payload\n",
    "\n",
    "# --- Compute cruise distance ---\n",
    "TOTAL_DIST_KM_A333   = TOTAL_DIST_NM_A333.to(\"km\")\n",
    "D_CRUISE_A333        = (TOTAL_DIST_KM_A333 - D_CLIMB_A333 - D_DESCENT_A333).to(\"km\")\n",
    "assert D_CRUISE_A333.magnitude > 0, \"Cruise distance must be positive.\"\n",
    "\n",
    "res_a330 = aim2015.calculate_fuel_consumption(\n",
    "    acft_size_class=7, # size class 7 = A330-300 wide-body twin engine\n",
    "    D_climb=D_CLIMB_A333,\n",
    "    D_cruise=D_CRUISE_A333,\n",
    "    D_descent=D_DESCENT_A333,\n",
    "    PL=PL_A333,\n",
    ") # dictionary with detailed results, including climb, cruise, descent fuel\n",
    "\n",
    "# total fuel (sum climb+cruise+descent), returned as a Pint Quantity\n",
    "a330_300_fuel = sum(q for k, q in res_a330.items() if k.startswith(\"mass_fuel_\")).to(\"kg\")\n",
    "\n",
    "a330_cabin_class_fuel = footprint_allocation_by_area(\n",
    "    fuel_per_flight=a330_300_fuel,\n",
    "    # Standard parameters for wide-body aircraft\n",
    "    size_factor_eco=1,\n",
    "    size_factor_premiumeco=1.5,\n",
    "    size_factor_business=4.0,\n",
    "    size_factor_first=5.0,\n",
    "    # Seat configuration for A330-300\n",
    "    seats_eco=183,\n",
    "    seats_premiumeco=0,\n",
    "    seats_business=45,\n",
    "    seats_first=8,\n",
    "    load_factor_eco=0.841,\n",
    "    load_factor_premiumeco=0,\n",
    "    load_factor_business=0.841,\n",
    "    load_factor_first=0.841,\n",
    ")\n",
    "print(\"CO2 emissions per PAX\",a330_cabin_class_fuel['fuel_eco'] * co2_factor)"
   ]
  },
  {
   "cell_type": "markdown",
   "id": "673318cf",
   "metadata": {},
   "source": [
    "#### A340-300, ICN-ZRH, 5601NM\n",
    "\n",
    "*not included as reference aircraft in model*"
   ]
  },
  {
   "cell_type": "markdown",
   "id": "a7234167",
   "metadata": {},
   "source": [
    "#### B777-300ER, SFO-ZRH, 5210NM"
   ]
  },
  {
   "cell_type": "code",
   "execution_count": 15,
   "id": "bf812e2a",
   "metadata": {},
   "outputs": [
    {
     "name": "stdout",
     "output_type": "stream",
     "text": [
      "CO2 emissions per PAX 529.8317274245937 kilogram\n"
     ]
    }
   ],
   "source": [
    "# --- Inputs / constants (B777-300ER / size class 8) ---\n",
    "TOTAL_DIST_NM_B77W = 5210 * ureg.nautical_mile   # SFO-ZRH mission length in NM \n",
    "D_CLIMB_B77W       = 214 * ureg.km               # WRAP Table 1 (B77W) average top-of-climb distance\n",
    "D_DESCENT_B77W     = 257 * ureg.km               # WRAP Table 1 (B77W) average top-of-descent distance\n",
    "PL_B77W            = 38500 * ureg.kg             # payload (adjust as needed)\n",
    "\n",
    "# --- Compute cruise distance ---\n",
    "TOTAL_DIST_KM_B77W = TOTAL_DIST_NM_B77W.to(\"km\")\n",
    "D_CRUISE_B77W      = (TOTAL_DIST_KM_B77W - D_CLIMB_B77W - D_DESCENT_B77W).to(\"km\")\n",
    "assert D_CRUISE_B77W.magnitude > 0, \"Cruise distance must be positive.\"\n",
    "\n",
    "res_b777 = aim2015.calculate_fuel_consumption(\n",
    "    acft_size_class=8,      # B777-300ER is the reference aircraft for Index 8\n",
    "    D_climb=D_CLIMB_B77W,\n",
    "    D_cruise=D_CRUISE_B77W,\n",
    "    D_descent=D_DESCENT_B77W,\n",
    "    PL=PL_B77W,\n",
    ") # dictionary with detailed results, including climb, cruise, descent fuel\n",
    "\n",
    "# total fuel (sum climb+cruise+descent), returned as a Pint Quantity\n",
    "b777_300er_fuel = sum(q for k, q in res_b777.items() if k.startswith(\"mass_fuel_\")).to(\"kg\")\n",
    "\n",
    "b777_cabin_class_fuel = footprint_allocation_by_area(\n",
    "    fuel_per_flight=b777_300er_fuel,\n",
    "    # Standard parameters for wide-body aircraft\n",
    "    size_factor_eco=1,\n",
    "    size_factor_premiumeco=1.5,\n",
    "    size_factor_business=4.0,\n",
    "    size_factor_first=5.0,\n",
    "    # Seat configuration for B777-300ER\n",
    "    seats_eco=226,\n",
    "    seats_premiumeco=24,\n",
    "    seats_business=62,\n",
    "    seats_first=8,\n",
    "    load_factor_eco=0.841,\n",
    "    load_factor_premiumeco=0.841,\n",
    "    load_factor_business=0.841,\n",
    "    load_factor_first=0.841,\n",
    ")\n",
    "print(\"CO2 emissions per PAX\",b777_cabin_class_fuel['fuel_eco'] * co2_factor)"
   ]
  },
  {
   "cell_type": "markdown",
   "id": "21ff0091",
   "metadata": {},
   "source": [
    "### EEA Emission Inventory 2009"
   ]
  },
  {
   "cell_type": "code",
   "execution_count": 16,
   "id": "24d4a19d",
   "metadata": {},
   "outputs": [],
   "source": [
    "from jetfuelburn.reducedorder import eea_emission_inventory_2009"
   ]
  },
  {
   "cell_type": "markdown",
   "id": "8c689776",
   "metadata": {},
   "source": [
    "#### A220-300, GVA-ARN, 997NM\n",
    "\n",
    "*is not in the included aircraft types of the model*"
   ]
  },
  {
   "cell_type": "markdown",
   "id": "f19852c1",
   "metadata": {},
   "source": [
    "#### A320neo, ATH-ZRH, 994NM\n",
    "\n",
    "*not included in the aircraft types of the model, only A320ceo*"
   ]
  },
  {
   "cell_type": "markdown",
   "id": "1362f874",
   "metadata": {},
   "source": [
    "#### A330-300, JFK-ZRH, 3521NM"
   ]
  },
  {
   "cell_type": "code",
   "execution_count": 17,
   "id": "0a3a27df",
   "metadata": {},
   "outputs": [
    {
     "name": "stdout",
     "output_type": "stream",
     "text": [
      "CO2 emissions per PAX 415.77032290962273 kilogram\n"
     ]
    }
   ],
   "source": [
    "res_a330 = eea_emission_inventory_2009.calculate_fuel_consumption(\n",
    "    acft='A330',\n",
    "    R=3521*ureg.nmi\n",
    ")\n",
    "\n",
    "a330_300_fuel = res_a330['mass_fuel_total']\n",
    "\n",
    "a330_cabin_class_fuel = footprint_allocation_by_area(\n",
    "    fuel_per_flight=a330_300_fuel,\n",
    "    # Standard parameters for wide-body aircraft\n",
    "    size_factor_eco=1,\n",
    "    size_factor_premiumeco=1.5,\n",
    "    size_factor_business=4.0,\n",
    "    size_factor_first=5.0,\n",
    "    # Seat configuration for A330-300\n",
    "    seats_eco=183,\n",
    "    seats_premiumeco=0,\n",
    "    seats_business=45,\n",
    "    seats_first=8,\n",
    "    load_factor_eco=0.841,\n",
    "    load_factor_premiumeco=0,\n",
    "    load_factor_business=0.841,\n",
    "    load_factor_first=0.841,\n",
    ")\n",
    "print(\"CO2 emissions per PAX\",a330_cabin_class_fuel['fuel_eco'] * co2_factor)"
   ]
  },
  {
   "cell_type": "markdown",
   "id": "8f400da3",
   "metadata": {},
   "source": [
    "#### A340-300, ICN-ZRH, Distance: 5601 NM\n",
    "\n",
    "*closest available aircraft is the A340-200*"
   ]
  },
  {
   "cell_type": "code",
   "execution_count": 18,
   "id": "87a7449c",
   "metadata": {},
   "outputs": [
    {
     "name": "stdout",
     "output_type": "stream",
     "text": [
      "CO2 emissions per PAX 756.4760887988573 kilogram\n"
     ]
    }
   ],
   "source": [
    "res_a343 = eea_emission_inventory_2009.calculate_fuel_consumption(\n",
    "    acft='A342', # using A340-200 here as the closest match\n",
    "    R=5601*ureg.nmi\n",
    ")\n",
    "\n",
    "a340_300_fuel = res_a343['mass_fuel_total']\n",
    "\n",
    "a340_cabin_class_fuel = footprint_allocation_by_area(\n",
    "    fuel_per_flight=a340_300_fuel,\n",
    "    # Standard parameters for wide-body aircraft\n",
    "    size_factor_eco=1,\n",
    "    size_factor_premiumeco=1.5,\n",
    "    size_factor_business=4.0,\n",
    "    size_factor_first=5.0,\n",
    "    # Seat configuration for A340-300\n",
    "    seats_eco=144,\n",
    "    seats_premiumeco=21,\n",
    "    seats_business=42,\n",
    "    seats_first=8,\n",
    "    load_factor_eco=0.841,\n",
    "    load_factor_premiumeco=0.841,\n",
    "    load_factor_business=0.841,\n",
    "    load_factor_first=0.841,\n",
    ")\n",
    "print(\"CO2 emissions per PAX\",a340_cabin_class_fuel['fuel_eco'] * co2_factor)\n"
   ]
  },
  {
   "cell_type": "markdown",
   "id": "b9f18b2a",
   "metadata": {},
   "source": [
    "#### B777-300ER, SFO-ZRH, 5210NM"
   ]
  },
  {
   "cell_type": "code",
   "execution_count": 19,
   "id": "8110d5f1",
   "metadata": {},
   "outputs": [
    {
     "name": "stdout",
     "output_type": "stream",
     "text": [
      "CO2 emissions per PAX 527.3267980710496 kilogram\n"
     ]
    }
   ],
   "source": [
    "res_b777 = eea_emission_inventory_2009.calculate_fuel_consumption(\n",
    "    acft='B777', \n",
    "    R=5210*ureg.nmi\n",
    ")\n",
    "\n",
    "b777_300er_fuel = res_b777['mass_fuel_total']\n",
    "\n",
    "b777_cabin_class_fuel = footprint_allocation_by_area(\n",
    "    fuel_per_flight=b777_300er_fuel,\n",
    "    # Standard parameters for wide-body aircraft\n",
    "    size_factor_eco=1,\n",
    "    size_factor_premiumeco=1.5,\n",
    "    size_factor_business=4.0,\n",
    "    size_factor_first=5.0,\n",
    "    # Seat configuration for B777-300ER\n",
    "    seats_eco=226,\n",
    "    seats_premiumeco=24,\n",
    "    seats_business=62,\n",
    "    seats_first=8,\n",
    "    load_factor_eco=0.841,\n",
    "    load_factor_premiumeco=0.841,\n",
    "    load_factor_business=0.841,\n",
    "    load_factor_first=0.841,\n",
    ")\n",
    "print(\"CO2 emissions per PAX\",b777_cabin_class_fuel['fuel_eco'] * co2_factor)"
   ]
  },
  {
   "cell_type": "markdown",
   "id": "6f5ddd77",
   "metadata": {},
   "source": [
    "### Seymour et al"
   ]
  },
  {
   "cell_type": "code",
   "execution_count": 20,
   "id": "243f5bec",
   "metadata": {},
   "outputs": [],
   "source": [
    "from jetfuelburn.reducedorder import seymour_etal"
   ]
  },
  {
   "cell_type": "markdown",
   "id": "c0a76b8f",
   "metadata": {},
   "source": [
    "#### A220-300, GVA-ARN, 997 NM"
   ]
  },
  {
   "cell_type": "code",
   "execution_count": 21,
   "id": "72622322",
   "metadata": {},
   "outputs": [
    {
     "name": "stdout",
     "output_type": "stream",
     "text": [
      "CO2 emissions per PAX 158.9743891807801 kilogram\n"
     ]
    }
   ],
   "source": [
    "a220_300_fuel =seymour_etal.calculate_fuel_consumption(\n",
    "    acft='BCS3',\n",
    "    R=997*ureg.nmi,\n",
    ")\n",
    "\n",
    "a220_cabin_class_fuel = footprint_allocation_by_area(\n",
    "    fuel_per_flight=a220_300_fuel,\n",
    "    # Standard parameters for narrow-body aircraft\n",
    "    size_factor_eco=1,\n",
    "    size_factor_premiumeco=0,\n",
    "    size_factor_business=1.5,\n",
    "    size_factor_first=0,\n",
    "    # Seat configuration for A220-300\n",
    "    seats_eco=115,\n",
    "    seats_premiumeco=0,\n",
    "    seats_business=18,\n",
    "    seats_first=0,\n",
    "    load_factor_eco=0.841,\n",
    "    load_factor_premiumeco=0,\n",
    "    load_factor_business=0.841,\n",
    "    load_factor_first=0,\n",
    ")\n",
    "print(\"CO2 emissions per PAX\",a220_cabin_class_fuel['fuel_eco'] * co2_factor)"
   ]
  },
  {
   "cell_type": "markdown",
   "id": "379ff596",
   "metadata": {},
   "source": [
    "#### A320neo, ATH-ZRH, 994NM"
   ]
  },
  {
   "cell_type": "code",
   "execution_count": 22,
   "id": "d1f51c3b",
   "metadata": {},
   "outputs": [
    {
     "name": "stdout",
     "output_type": "stream",
     "text": [
      "CO2 emissions per PAX 111.4992367685541 kilogram\n"
     ]
    }
   ],
   "source": [
    "a320neo_fuel =seymour_etal.calculate_fuel_consumption(\n",
    "    acft='A20N',\n",
    "    R=994*ureg.nmi,\n",
    ")\n",
    "\n",
    "a320neo_cabin_class_fuel = footprint_allocation_by_area(\n",
    "    fuel_per_flight=a320neo_fuel,\n",
    "    # Standard parameters for narrow-body aircraft\n",
    "    size_factor_eco=1,\n",
    "    size_factor_premiumeco=0,\n",
    "    size_factor_business=1.5,\n",
    "    size_factor_first=0,\n",
    "    # Seat configuration for A320neo\n",
    "    seats_eco=150,\n",
    "    seats_premiumeco=0,\n",
    "    seats_business=20,\n",
    "    seats_first=0,\n",
    "    load_factor_eco=0.841,\n",
    "    load_factor_premiumeco=0,\n",
    "    load_factor_business=0.841,\n",
    "    load_factor_first=0,\n",
    ")\n",
    "print(\"CO2 emissions per PAX\",a320neo_cabin_class_fuel['fuel_eco'] * co2_factor)"
   ]
  },
  {
   "cell_type": "markdown",
   "id": "f8b4f0d6",
   "metadata": {},
   "source": [
    "#### A330-300, JFK-ZRH, 3521NM"
   ]
  },
  {
   "cell_type": "code",
   "execution_count": 23,
   "id": "bdd02e34",
   "metadata": {},
   "outputs": [
    {
     "name": "stdout",
     "output_type": "stream",
     "text": [
      "CO2 emissions per PAX 415.73062401873915 kilogram\n"
     ]
    }
   ],
   "source": [
    "a330_300_fuel = seymour_etal.calculate_fuel_consumption(\n",
    "    acft='A333',\n",
    "    R=3521*ureg.nmi,\n",
    ")\n",
    "\n",
    "a330_cabin_class_fuel = footprint_allocation_by_area(\n",
    "    fuel_per_flight=a330_300_fuel,\n",
    "    # Standard parameters for wide-body aircraft\n",
    "    size_factor_eco=1,\n",
    "    size_factor_premiumeco=1.5,\n",
    "    size_factor_business=4.0,\n",
    "    size_factor_first=5.0,\n",
    "    # Seat configuration for A330-300\n",
    "    seats_eco=183,\n",
    "    seats_premiumeco=0,\n",
    "    seats_business=45,\n",
    "    seats_first=8,\n",
    "    load_factor_eco=0.841,\n",
    "    load_factor_premiumeco=0,\n",
    "    load_factor_business=0.841,\n",
    "    load_factor_first=0.841,\n",
    ")\n",
    "print(\"CO2 emissions per PAX\",a330_cabin_class_fuel['fuel_eco'] * co2_factor)"
   ]
  },
  {
   "cell_type": "markdown",
   "id": "598dc568",
   "metadata": {},
   "source": [
    "#### A340-300, ICN-ZRH, 5601 NM"
   ]
  },
  {
   "cell_type": "code",
   "execution_count": 24,
   "id": "29fe9afc",
   "metadata": {},
   "outputs": [
    {
     "name": "stdout",
     "output_type": "stream",
     "text": [
      "CO2 emissions per PAX 587.7688292073283 kilogram\n"
     ]
    }
   ],
   "source": [
    "a340_300_fuel = seymour_etal.calculate_fuel_consumption(\n",
    "    acft='A343',\n",
    "    R=5601*ureg.nmi,\n",
    ")\n",
    "\n",
    "a340_cabin_class_fuel = footprint_allocation_by_area(\n",
    "    fuel_per_flight=a340_300_fuel,\n",
    "    # Standard parameters for wide-body aircraft\n",
    "    size_factor_eco=1,\n",
    "    size_factor_premiumeco=1.5,\n",
    "    size_factor_business=4.0,\n",
    "    size_factor_first=5.0,\n",
    "    # Seat configuration for A340-300\n",
    "    seats_eco=144,\n",
    "    seats_premiumeco=21,\n",
    "    seats_business=42,\n",
    "    seats_first=8,\n",
    "    load_factor_eco=0.841,\n",
    "    load_factor_premiumeco=0.841,\n",
    "    load_factor_business=0.841,\n",
    "    load_factor_first=0.841,\n",
    ")\n",
    "print(\"CO2 emissions per PAX\",a340_cabin_class_fuel['fuel_eco'] * co2_factor)"
   ]
  },
  {
   "cell_type": "markdown",
   "id": "02c1af7d",
   "metadata": {},
   "source": [
    "#### B777-300ER, SFO-ZRH, 5210NM"
   ]
  },
  {
   "cell_type": "code",
   "execution_count": 25,
   "id": "1c9a1eaf",
   "metadata": {},
   "outputs": [
    {
     "name": "stdout",
     "output_type": "stream",
     "text": [
      "CO2 emissions per PAX 456.83076891447837 kilogram\n"
     ]
    }
   ],
   "source": [
    "b777_300er_fuel = seymour_etal.calculate_fuel_consumption(\n",
    "    acft='B77W',\n",
    "    R=5210*ureg.nmi,\n",
    ")\n",
    "\n",
    "b777_cabin_class_fuel = footprint_allocation_by_area(\n",
    "    fuel_per_flight=b777_300er_fuel,\n",
    "    # Standard parameters for wide-body aircraft\n",
    "    size_factor_eco=1,\n",
    "    size_factor_premiumeco=1.5,\n",
    "    size_factor_business=4.0,\n",
    "    size_factor_first=5.0,\n",
    "    # Seat configuration for B777-300ER\n",
    "    seats_eco=226,\n",
    "    seats_premiumeco=24,\n",
    "    seats_business=62,\n",
    "    seats_first=8,\n",
    "    load_factor_eco=0.841,\n",
    "    load_factor_premiumeco=0.841,\n",
    "    load_factor_business=0.841,\n",
    "    load_factor_first=0.841,\n",
    ")\n",
    "print(\"CO2 emissions per PAX\",b777_cabin_class_fuel['fuel_eco'] * co2_factor)"
   ]
  },
  {
   "cell_type": "markdown",
   "id": "ba729eb7",
   "metadata": {},
   "source": [
    "### Yanto et al"
   ]
  },
  {
   "cell_type": "code",
   "execution_count": 26,
   "id": "37a251f6",
   "metadata": {},
   "outputs": [],
   "source": [
    "from jetfuelburn.reducedorder import yanto_etal"
   ]
  },
  {
   "cell_type": "markdown",
   "id": "f944088c",
   "metadata": {},
   "source": [
    "#### A220-300, GVA-ARN, 997NM\n",
    "\n",
    "*aircraft not included in model*"
   ]
  },
  {
   "cell_type": "markdown",
   "id": "7d94dd13",
   "metadata": {},
   "source": [
    "#### A320neo, ATH-ZRH, 994NM\n",
    "\n",
    "*aircraft not inluded in model, only A320ceo*"
   ]
  },
  {
   "cell_type": "markdown",
   "id": "6d43f71a",
   "metadata": {},
   "source": [
    "#### A330-300, JFK-ZRH, 3521NM"
   ]
  },
  {
   "cell_type": "code",
   "execution_count": 27,
   "id": "c26f5eb2",
   "metadata": {},
   "outputs": [
    {
     "name": "stdout",
     "output_type": "stream",
     "text": [
      "CO2 emissions per PAX 589.6346691259079 kilogram\n"
     ]
    }
   ],
   "source": [
    "a330_300_fuel = yanto_etal.calculate_fuel_consumption(\n",
    "    acft='A333',\n",
    "    R=3521*ureg.nmi,\n",
    "    PL=26000*ureg.kg\n",
    ")\n",
    "\n",
    "a330_cabin_class_fuel = footprint_allocation_by_area(\n",
    "    fuel_per_flight=a330_300_fuel,\n",
    "    # Standard parameters for wide-body aircraft\n",
    "    size_factor_eco=1,\n",
    "    size_factor_premiumeco=1.5,\n",
    "    size_factor_business=4.0,\n",
    "    size_factor_first=5.0,\n",
    "    # Seat configuration for A330-300\n",
    "    seats_eco=183,\n",
    "    seats_premiumeco=0,\n",
    "    seats_business=45,\n",
    "    seats_first=8,\n",
    "    load_factor_eco=0.841,\n",
    "    load_factor_premiumeco=0,\n",
    "    load_factor_business=0.841,\n",
    "    load_factor_first=0.841,\n",
    ")\n",
    "print(\"CO2 emissions per PAX\",a330_cabin_class_fuel['fuel_eco'] * co2_factor)"
   ]
  },
  {
   "cell_type": "markdown",
   "id": "2a2d607c",
   "metadata": {},
   "source": [
    "#### A340-300, ICN-ZRH, 5601NM"
   ]
  },
  {
   "cell_type": "code",
   "execution_count": 28,
   "id": "16797c4f",
   "metadata": {},
   "outputs": [
    {
     "name": "stdout",
     "output_type": "stream",
     "text": [
      "CO2 emissions per PAX 957.9980809435592 kilogram\n"
     ]
    }
   ],
   "source": [
    "a340_300_fuel = yanto_etal.calculate_fuel_consumption(\n",
    "    acft='A343',\n",
    "    R=5601*ureg.nmi,\n",
    "    PL=27000*ureg.kg\n",
    ")\n",
    "\n",
    "a340_cabin_class_fuel = footprint_allocation_by_area(\n",
    "    fuel_per_flight=a340_300_fuel,\n",
    "    # Standard parameters for wide-body aircraft\n",
    "    size_factor_eco=1,\n",
    "    size_factor_premiumeco=1.5,\n",
    "    size_factor_business=4.0,\n",
    "    size_factor_first=5.0,\n",
    "    # Seat configuration for A340-300\n",
    "    seats_eco=144,\n",
    "    seats_premiumeco=21,\n",
    "    seats_business=42,\n",
    "    seats_first=8,\n",
    "    load_factor_eco=0.841,\n",
    "    load_factor_premiumeco=0.841,\n",
    "    load_factor_business=0.841,\n",
    "    load_factor_first=0.841,\n",
    ")\n",
    "print(\"CO2 emissions per PAX\",a340_cabin_class_fuel['fuel_eco'] * co2_factor)"
   ]
  },
  {
   "cell_type": "markdown",
   "id": "16123d67",
   "metadata": {},
   "source": [
    "#### B777-300ER, SFO-ZRH, 5210NM"
   ]
  },
  {
   "cell_type": "code",
   "execution_count": 29,
   "id": "b3ba4095",
   "metadata": {},
   "outputs": [
    {
     "name": "stdout",
     "output_type": "stream",
     "text": [
      "CO2 emissions per PAX 577.0794251726301 kilogram\n"
     ]
    }
   ],
   "source": [
    "b777_300er_fuel = yanto_etal.calculate_fuel_consumption(\n",
    "    acft='B773', #B777-300ER has the ICAO code B77W, but here B773 is used for: Boeing 777-300/300ER/333ER\n",
    "    R=5210*ureg.nmi,\n",
    "    PL=38500*ureg.kg\n",
    ")\n",
    "\n",
    "b777_cabin_class_fuel = footprint_allocation_by_area(\n",
    "    fuel_per_flight=b777_300er_fuel,\n",
    "    # Standard parameters for wide-body aircraft\n",
    "    size_factor_eco=1,\n",
    "    size_factor_premiumeco=1.5,\n",
    "    size_factor_business=4.0,\n",
    "    size_factor_first=5.0,\n",
    "    # Seat configuration for B777-300ER\n",
    "    seats_eco=226,\n",
    "    seats_premiumeco=24,\n",
    "    seats_business=62,\n",
    "    seats_first=8,\n",
    "    load_factor_eco=0.841,\n",
    "    load_factor_premiumeco=0.841,\n",
    "    load_factor_business=0.841,\n",
    "    load_factor_first=0.841,\n",
    ")\n",
    "print(\"CO2 emissions per PAX\",b777_cabin_class_fuel['fuel_eco'] * co2_factor)"
   ]
  }
 ],
 "metadata": {
  "kernelspec": {
   "display_name": "aviation",
   "language": "python",
   "name": "python3"
  },
  "language_info": {
   "codemirror_mode": {
    "name": "ipython",
    "version": 3
   },
   "file_extension": ".py",
   "mimetype": "text/x-python",
   "name": "python",
   "nbconvert_exporter": "python",
   "pygments_lexer": "ipython3",
   "version": "3.13.7"
  }
 },
 "nbformat": 4,
 "nbformat_minor": 5
}
