{
 "cells": [
  {
   "cell_type": "markdown",
   "id": "b8d96a41",
   "metadata": {},
   "source": [
    "# JetFuelBurn Models"
   ]
  },
  {
   "cell_type": "code",
   "execution_count": 2,
   "id": "21aeb898",
   "metadata": {},
   "outputs": [],
   "source": [
    "import jetfuelburn\n",
    "from jetfuelburn import ureg\n",
    "from jetfuelburn.data.constants import co2_factor_jetfuel\n",
    "from jetfuelburn.utility.allocation import footprint_allocation_by_area"
   ]
  },
  {
   "cell_type": "markdown",
   "id": "8f68d2d5",
   "metadata": {},
   "source": [
    "## Airline Values for Benchmarking\n",
    "\n",
    "An airline provided values derived from Operational Flight Plans (OFP) for comparison. No wind was assumed to ensure consistency across all models. From the total fuel burn, the per-passenger fuel burn must first be calculated. JetFuelBurn provides the [Cabin Class Fuel Allocation](https://jetfuelburn.readthedocs.io/en/latest/api/allocation/) method set for this purpose."
   ]
  },
  {
   "cell_type": "markdown",
   "id": "e8f979aa",
   "metadata": {},
   "source": [
    "#### A220-300, GVA-ARN (997NM)"
   ]
  },
  {
   "cell_type": "code",
   "execution_count": 3,
   "id": "e73ee90e",
   "metadata": {},
   "outputs": [
    {
     "data": {
      "text/html": [
       "117.93572373599507 kilogram"
      ],
      "text/latex": [
       "$117.93572373599507\\ \\mathrm{kilogram}$"
      ],
      "text/plain": [
       "<Quantity(117.935724, 'kilogram')>"
      ]
     },
     "execution_count": 3,
     "metadata": {},
     "output_type": "execute_result"
    }
   ],
   "source": [
    "(a220_cabin_class_fuel := footprint_allocation_by_area(\n",
    "    fuel_per_flight=(135 + 4322) * ureg.kg, # taxi and trip fuel in kg from Airline OFP\n",
    "    # Standard parameters for narrow-body aircraft\n",
    "    size_factor_eco=1,\n",
    "    size_factor_premiumeco=0,\n",
    "    size_factor_business=1.5,\n",
    "    size_factor_first=0,\n",
    "    # Seat configuration for A220-300\n",
    "    seats_eco=115,\n",
    "    seats_premiumeco=0,\n",
    "    seats_business=18,\n",
    "    seats_first=0,\n",
    "    load_factor_eco=0.841,\n",
    "    load_factor_premiumeco=0,\n",
    "    load_factor_business=0.841,\n",
    "    load_factor_first=0,\n",
    "))\n",
    "(a220_co2_eco := a220_cabin_class_fuel['fuel_eco'] * co2_factor_jetfuel)"
   ]
  },
  {
   "cell_type": "markdown",
   "id": "60073db8",
   "metadata": {},
   "source": [
    "#### A320neo, ATH-ZRH (994NM)"
   ]
  },
  {
   "cell_type": "code",
   "execution_count": 33,
   "id": "2ecc1bfc",
   "metadata": {},
   "outputs": [
    {
     "data": {
      "text/html": [
       "100.97053771964593 kilogram"
      ],
      "text/latex": [
       "$100.97053771964593\\ \\mathrm{kilogram}$"
      ],
      "text/plain": [
       "<Quantity(100.970538, 'kilogram')>"
      ]
     },
     "execution_count": 33,
     "metadata": {},
     "output_type": "execute_result"
    }
   ],
   "source": [
    "(a320neo_cabin_class_fuel := footprint_allocation_by_area(\n",
    "    fuel_per_flight=(180 + 4657) * ureg.kg, # taxi and trip fuel in kg from Airline OFP\n",
    "    # Standard parameters for narrow-body aircraft\n",
    "    size_factor_eco=1,\n",
    "    size_factor_premiumeco=0,\n",
    "    size_factor_business=1.5,\n",
    "    size_factor_first=0,\n",
    "    # Seat configuration for A320neo\n",
    "    seats_eco=150,\n",
    "    seats_premiumeco=0,\n",
    "    seats_business=20,\n",
    "    seats_first=0,\n",
    "    load_factor_eco=0.841,\n",
    "    load_factor_premiumeco=0,\n",
    "    load_factor_business=0.841,\n",
    "    load_factor_first=0,\n",
    "))\n",
    "(a320neo_co2_eco := a320neo_cabin_class_fuel['fuel_eco'] * co2_factor_jetfuel)"
   ]
  },
  {
   "cell_type": "markdown",
   "id": "86ce818b",
   "metadata": {},
   "source": [
    "#### A330-300, JFK-ZRH (3521NM)"
   ]
  },
  {
   "cell_type": "code",
   "execution_count": 34,
   "id": "057081e5",
   "metadata": {},
   "outputs": [
    {
     "data": {
      "text/html": [
       "376.90861936192 kilogram"
      ],
      "text/latex": [
       "$376.90861936192\\ \\mathrm{kilogram}$"
      ],
      "text/plain": [
       "<Quantity(376.908619, 'kilogram')>"
      ]
     },
     "execution_count": 34,
     "metadata": {},
     "output_type": "execute_result"
    }
   ],
   "source": [
    "(a330_cabin_class_fuel := footprint_allocation_by_area(\n",
    "    fuel_per_flight=(250 + 40175) * ureg.kg, # taxi and trip fuel in kg from Airline OFP\n",
    "    # Standard parameters for wide-body aircraft\n",
    "    size_factor_eco=1,\n",
    "    size_factor_premiumeco=1.5,\n",
    "    size_factor_business=4.0,\n",
    "    size_factor_first=5.0,\n",
    "    # Seat configuration for A330-300\n",
    "    seats_eco=183,\n",
    "    seats_premiumeco=0,\n",
    "    seats_business=45,\n",
    "    seats_first=8,\n",
    "    load_factor_eco=0.841,\n",
    "    load_factor_premiumeco=0,\n",
    "    load_factor_business=0.841,\n",
    "    load_factor_first=0.841,\n",
    "))\n",
    "(a330_co2_eco := a330_cabin_class_fuel['fuel_eco'] * co2_factor_jetfuel)"
   ]
  },
  {
   "cell_type": "markdown",
   "id": "32a61b4f",
   "metadata": {},
   "source": [
    "#### A340-300, ICN-ZRH (5601NM)"
   ]
  },
  {
   "cell_type": "code",
   "execution_count": 35,
   "id": "1dec5ff0",
   "metadata": {},
   "outputs": [
    {
     "data": {
      "text/html": [
       "754.7097808376755 kilogram"
      ],
      "text/latex": [
       "$754.7097808376755\\ \\mathrm{kilogram}$"
      ],
      "text/plain": [
       "<Quantity(754.709781, 'kilogram')>"
      ]
     },
     "execution_count": 35,
     "metadata": {},
     "output_type": "execute_result"
    }
   ],
   "source": [
    "(a340_cabin_class_fuel := footprint_allocation_by_area(\n",
    "    fuel_per_flight=(390 + 76639) * ureg.kg, # taxi and trip fuel in kg from Airline OFP\n",
    "    # Standard parameters for wide-body aircraft\n",
    "    size_factor_eco=1,\n",
    "    size_factor_premiumeco=1.5,\n",
    "    size_factor_business=4.0,\n",
    "    size_factor_first=5.0,\n",
    "    # Seat configuration for A340-300\n",
    "    seats_eco=144,\n",
    "    seats_premiumeco=21,\n",
    "    seats_business=42,\n",
    "    seats_first=8,\n",
    "    load_factor_eco=0.841,\n",
    "    load_factor_premiumeco=0.841,\n",
    "    load_factor_business=0.841,\n",
    "    load_factor_first=0.841,\n",
    "))\n",
    "(a340_co2_eco := a340_cabin_class_fuel['fuel_eco'] * co2_factor_jetfuel)"
   ]
  },
  {
   "cell_type": "markdown",
   "id": "e6667c5a",
   "metadata": {},
   "source": [
    "#### B777-300ER, SFO-ZRH (5210NM)"
   ]
  },
  {
   "cell_type": "code",
   "execution_count": 36,
   "id": "b0c9d07c",
   "metadata": {},
   "outputs": [
    {
     "data": {
      "text/html": [
       "559.4815695600477 kilogram"
      ],
      "text/latex": [
       "$559.4815695600477\\ \\mathrm{kilogram}$"
      ],
      "text/plain": [
       "<Quantity(559.48157, 'kilogram')>"
      ]
     },
     "execution_count": 36,
     "metadata": {},
     "output_type": "execute_result"
    }
   ],
   "source": [
    "(b777_cabin_class_fuel := footprint_allocation_by_area(\n",
    "    fuel_per_flight=(525 + 81370) * ureg.kg, # taxi and trip fuel in kg from Airline OFP\n",
    "    # Standard parameters for wide-body aircraft\n",
    "    size_factor_eco=1,\n",
    "    size_factor_premiumeco=1.5,\n",
    "    size_factor_business=4.0,\n",
    "    size_factor_first=5.0,\n",
    "    # Seat configuration for B777-300ER\n",
    "    seats_eco=226,\n",
    "    seats_premiumeco=24,\n",
    "    seats_business=62,\n",
    "    seats_first=8,\n",
    "    load_factor_eco=0.841,\n",
    "    load_factor_premiumeco=0.841,\n",
    "    load_factor_business=0.841,\n",
    "    load_factor_first=0.841,\n",
    "))\n",
    "(b777_co2_eco := b777_cabin_class_fuel['fuel_eco'] * co2_factor_jetfuel)"
   ]
  },
  {
   "cell_type": "markdown",
   "id": "727ebcfd",
   "metadata": {},
   "source": [
    "## [Statistics Models](https://jetfuelburn.readthedocs.io/en/latest/api/statistics/)"
   ]
  },
  {
   "cell_type": "markdown",
   "id": "da071166",
   "metadata": {},
   "source": [
    "### [US DOT](https://jetfuelburn.readthedocs.io/en/latest/api/statistics/#jetfuelburn.statistics.usdot)"
   ]
  },
  {
   "cell_type": "code",
   "execution_count": 37,
   "id": "393a9dbc",
   "metadata": {},
   "outputs": [],
   "source": [
    "from jetfuelburn.statistics import usdot"
   ]
  },
  {
   "cell_type": "markdown",
   "id": "a6008e67",
   "metadata": {},
   "source": [
    "#### A220-300, GVA-ARN (997NM)"
   ]
  },
  {
   "cell_type": "code",
   "execution_count": 38,
   "id": "669745cb",
   "metadata": {},
   "outputs": [
    {
     "data": {
      "text/html": [
       "210.1201960517652 kilogram"
      ],
      "text/latex": [
       "$210.1201960517652\\ \\mathrm{kilogram}$"
      ],
      "text/plain": [
       "<Quantity(210.120196, 'kilogram')>"
      ]
     },
     "execution_count": 38,
     "metadata": {},
     "output_type": "execute_result"
    }
   ],
   "source": [
    "a220_300_fuel = usdot.calculate_fuel_consumption_per_weight(\n",
    "    year=2024,\n",
    "    acft='A220-300 BD-500-1A11',\n",
    "    R=997 * ureg.nmi,\n",
    "    W=11500 * ureg.kg # payload adjusted to pax load of 109 passengers and 1t of cargo\n",
    ")\n",
    "(a220_cabin_class_fuel := footprint_allocation_by_area(\n",
    "    fuel_per_flight=a220_300_fuel,\n",
    "    # Standard parameters for narrow-body aircraft\n",
    "    size_factor_eco=1,\n",
    "    size_factor_premiumeco=0,\n",
    "    size_factor_business=1.5,\n",
    "    size_factor_first=0,\n",
    "    # Seat configuration for A220-300\n",
    "    seats_eco=115,\n",
    "    seats_premiumeco=0,\n",
    "    seats_business=18,\n",
    "    seats_first=0,\n",
    "    load_factor_eco=0.841,\n",
    "    load_factor_premiumeco=0,\n",
    "    load_factor_business=0.841,\n",
    "    load_factor_first=0,\n",
    "))\n",
    "(a220_co2_eco := a220_cabin_class_fuel['fuel_eco'] * co2_factor_jetfuel)"
   ]
  },
  {
   "cell_type": "markdown",
   "id": "1e925ac7",
   "metadata": {},
   "source": [
    "#### A320neo, ATH-ZRH (994NM)"
   ]
  },
  {
   "cell_type": "code",
   "execution_count": 39,
   "id": "42713482",
   "metadata": {},
   "outputs": [
    {
     "data": {
      "text/html": [
       "141.16726549472799 kilogram"
      ],
      "text/latex": [
       "$141.16726549472799\\ \\mathrm{kilogram}$"
      ],
      "text/plain": [
       "<Quantity(141.167265, 'kilogram')>"
      ]
     },
     "execution_count": 39,
     "metadata": {},
     "output_type": "execute_result"
    }
   ],
   "source": [
    "a320neo_fuel = usdot.calculate_fuel_consumption_per_weight(\n",
    "    year=2024,\n",
    "    acft='Airbus Industrie A320-200n',\n",
    "    R=994 * ureg.nmi,\n",
    "    W=14500 * ureg.kg # payload adjusted to pax load of 143 passengers and 1t of cargo\n",
    ")\n",
    "a320neo_cabin_class_fuel = footprint_allocation_by_area(\n",
    "    fuel_per_flight=a320neo_fuel,\n",
    "    # Standard parameters for narrow-body aircraft\n",
    "    size_factor_eco=1,\n",
    "    size_factor_premiumeco=0,\n",
    "    size_factor_business=1.5,\n",
    "    size_factor_first=0,\n",
    "    # Seat configuration for A320neo\n",
    "    seats_eco=150,\n",
    "    seats_premiumeco=0,\n",
    "    seats_business=20,\n",
    "    seats_first=0,\n",
    "    load_factor_eco=0.841,\n",
    "    load_factor_premiumeco=0,\n",
    "    load_factor_business=0.841,\n",
    "    load_factor_first=0,\n",
    ")\n",
    "(a320neo_co2_eco := a320neo_cabin_class_fuel['fuel_eco'] * co2_factor_jetfuel)"
   ]
  },
  {
   "cell_type": "markdown",
   "id": "ec2b61e6",
   "metadata": {},
   "source": [
    "#### A330-300, JFK-ZRH (3521NM)"
   ]
  },
  {
   "cell_type": "code",
   "execution_count": 40,
   "id": "268f2ab6",
   "metadata": {},
   "outputs": [
    {
     "data": {
      "text/html": [
       "480.70598741198614 kilogram"
      ],
      "text/latex": [
       "$480.70598741198614\\ \\mathrm{kilogram}$"
      ],
      "text/plain": [
       "<Quantity(480.705987, 'kilogram')>"
      ]
     },
     "execution_count": 40,
     "metadata": {},
     "output_type": "execute_result"
    }
   ],
   "source": [
    "a330_300_fuel = usdot.calculate_fuel_consumption_per_weight(\n",
    "    year=2024,\n",
    "    acft='Airbus Industrie A330-300/333',\n",
    "    R=3521 * ureg.nmi,\n",
    "    W=26000 * ureg.kg\n",
    ")\n",
    "a330_cabin_class_fuel = footprint_allocation_by_area(\n",
    "    fuel_per_flight=a330_300_fuel,\n",
    "    # Standard parameters for wide-body aircraft\n",
    "    size_factor_eco=1,\n",
    "    size_factor_premiumeco=1.5,\n",
    "    size_factor_business=4.0,\n",
    "    size_factor_first=5.0,\n",
    "    # Seat configuration for A330-300\n",
    "    seats_eco=183,\n",
    "    seats_premiumeco=0,\n",
    "    seats_business=45,\n",
    "    seats_first=8,\n",
    "    load_factor_eco=0.841,\n",
    "    load_factor_premiumeco=0,\n",
    "    load_factor_business=0.841,\n",
    "    load_factor_first=0.841,\n",
    ")\n",
    "(a330_co2_eco := a330_cabin_class_fuel['fuel_eco'] * co2_factor_jetfuel)"
   ]
  },
  {
   "cell_type": "markdown",
   "id": "65013f44",
   "metadata": {},
   "source": [
    "#### A340-300, ICN-ZRH (5601NM)\n",
    "\n",
    "*not present in US DOT data*"
   ]
  },
  {
   "cell_type": "markdown",
   "id": "8779e17c",
   "metadata": {},
   "source": [
    "#### B777-300ER, SFO-ZRH (5210NM)"
   ]
  },
  {
   "cell_type": "code",
   "execution_count": 41,
   "id": "66a51265",
   "metadata": {},
   "outputs": [
    {
     "data": {
      "text/html": [
       "705.927609960742 kilogram"
      ],
      "text/latex": [
       "$705.927609960742\\ \\mathrm{kilogram}$"
      ],
      "text/plain": [
       "<Quantity(705.92761, 'kilogram')>"
      ]
     },
     "execution_count": 41,
     "metadata": {},
     "output_type": "execute_result"
    }
   ],
   "source": [
    "b777_300er_fuel = usdot.calculate_fuel_consumption_per_weight(\n",
    "    year=2024,\n",
    "    acft='Boeing 777-300/300ER/333ER',\n",
    "    R=5210 * ureg.nmi,\n",
    "    W=38500 * ureg.kg\n",
    ")\n",
    "b777_cabin_class_fuel = footprint_allocation_by_area(\n",
    "    fuel_per_flight=b777_300er_fuel,\n",
    "    # Standard parameters for wide-body aircraft\n",
    "    size_factor_eco=1,\n",
    "    size_factor_premiumeco=1.5,\n",
    "    size_factor_business=4.0,\n",
    "    size_factor_first=5.0,\n",
    "    # Seat configuration for B777-300ER\n",
    "    seats_eco=226,\n",
    "    seats_premiumeco=24,\n",
    "    seats_business=62,\n",
    "    seats_first=8,\n",
    "    load_factor_eco=0.841,\n",
    "    load_factor_premiumeco=0.841,\n",
    "    load_factor_business=0.841,\n",
    "    load_factor_first=0.841,\n",
    ")\n",
    "(b777_co2_eco := b777_cabin_class_fuel['fuel_eco'] * co2_factor_jetfuel)"
   ]
  },
  {
   "cell_type": "markdown",
   "id": "b5872348",
   "metadata": {},
   "source": [
    "## [Reduced Order Models](https://jetfuelburn.readthedocs.io/en/latest/api/reducedorder/)"
   ]
  },
  {
   "cell_type": "markdown",
   "id": "fb660d4f",
   "metadata": {},
   "source": [
    "### [aim2015](https://jetfuelburn.readthedocs.io/en/latest/api/reducedorder/#jetfuelburn.reducedorder.aim2015)"
   ]
  },
  {
   "cell_type": "code",
   "execution_count": 42,
   "id": "0e722759",
   "metadata": {},
   "outputs": [],
   "source": [
    "from jetfuelburn.reducedorder import aim2015"
   ]
  },
  {
   "cell_type": "markdown",
   "id": "277cbf3b",
   "metadata": {},
   "source": [
    "#### A220-300, GVA-ARN (997NM)\n",
    "\n",
    "*not included as reference aircraft in model*"
   ]
  },
  {
   "cell_type": "markdown",
   "id": "7b929b9a",
   "metadata": {},
   "source": [
    "#### A320neo, ATH-ZRH (994NM)\n",
    "\n",
    "*not included as reference aircraft in model*"
   ]
  },
  {
   "cell_type": "markdown",
   "id": "9466ae63",
   "metadata": {},
   "source": [
    "#### A330-300, JFK-ZRH (3521NM)"
   ]
  },
  {
   "cell_type": "code",
   "execution_count": 43,
   "id": "f640c0e9",
   "metadata": {},
   "outputs": [
    {
     "data": {
      "text/html": [
       "336.00685642793866 kilogram"
      ],
      "text/latex": [
       "$336.00685642793866\\ \\mathrm{kilogram}$"
      ],
      "text/plain": [
       "<Quantity(336.006856, 'kilogram')>"
      ]
     },
     "execution_count": 43,
     "metadata": {},
     "output_type": "execute_result"
    }
   ],
   "source": [
    "TOTAL_DIST_NM_A333 = 3521 * ureg.nautical_mile   # JFK-ZRH mission length in NM\n",
    "D_CLIMB_A333       = 287 * ureg.km               # WRAP Table 1 (A333) average top-of-climb distance\n",
    "D_DESCENT_A333     = 284 * ureg.km               # WRAP Table 1 (A333) average top-of-descent distance\n",
    "D_CRUISE_A333      = TOTAL_DIST_NM_A333 - D_CLIMB_A333 - D_DESCENT_A333\n",
    "PL_A333            = 26000 * ureg.kg             # payload\n",
    "\n",
    "res_a330 = aim2015.calculate_fuel_consumption(\n",
    "    acft_size_class=7,  # size class 7 = A330-300 wide-body twin engine\n",
    "    D_climb=D_CLIMB_A333,\n",
    "    D_cruise=D_CRUISE_A333,\n",
    "    D_descent=D_DESCENT_A333,\n",
    "    PL=PL_A333,\n",
    ")\n",
    "\n",
    "a330_300_fuel = sum(res_a330.values())  # total fuel (sum climb+cruise+descent)\n",
    "\n",
    "a330_cabin_class_fuel = footprint_allocation_by_area(\n",
    "    fuel_per_flight=a330_300_fuel,\n",
    "    # Standard parameters for wide-body aircraft\n",
    "    size_factor_eco=1,\n",
    "    size_factor_premiumeco=1.5,\n",
    "    size_factor_business=4.0,\n",
    "    size_factor_first=5.0,\n",
    "    # Seat configuration for A330-300\n",
    "    seats_eco=183,\n",
    "    seats_premiumeco=0,\n",
    "    seats_business=45,\n",
    "    seats_first=8,\n",
    "    load_factor_eco=0.841,\n",
    "    load_factor_premiumeco=0,\n",
    "    load_factor_business=0.841,\n",
    "    load_factor_first=0.841,\n",
    ")\n",
    "(a330_co2_eco := a330_cabin_class_fuel['fuel_eco'] * co2_factor_jetfuel)"
   ]
  },
  {
   "cell_type": "markdown",
   "id": "673318cf",
   "metadata": {},
   "source": [
    "#### A340-300, ICN-ZRH (5601NM)\n",
    "\n",
    "*not included as reference aircraft in model*"
   ]
  },
  {
   "cell_type": "markdown",
   "id": "a7234167",
   "metadata": {},
   "source": [
    "#### B777-300ER, SFO-ZRH (5210NM)"
   ]
  },
  {
   "cell_type": "code",
   "execution_count": 44,
   "id": "bf812e2a",
   "metadata": {},
   "outputs": [
    {
     "data": {
      "text/html": [
       "529.8317274245937 kilogram"
      ],
      "text/latex": [
       "$529.8317274245937\\ \\mathrm{kilogram}$"
      ],
      "text/plain": [
       "<Quantity(529.831727, 'kilogram')>"
      ]
     },
     "execution_count": 44,
     "metadata": {},
     "output_type": "execute_result"
    }
   ],
   "source": [
    "TOTAL_DIST_NM_B77W = 5210 * ureg.nautical_mile   # SFO-ZRH mission length in NM\n",
    "D_CLIMB_B77W       = 214 * ureg.km               # WRAP Table 1 (B77W) average top-of-climb distance\n",
    "D_DESCENT_B77W     = 257 * ureg.km               # WRAP Table 1 (B77W) average top-of-descent distance\n",
    "D_CRUISE_B77W      = TOTAL_DIST_NM_B77W - D_CLIMB_B77W - D_DESCENT_B77W\n",
    "PL_B77W            = 38500 * ureg.kg             # payload\n",
    "\n",
    "res_b777 = aim2015.calculate_fuel_consumption(\n",
    "    acft_size_class=8,  # B777-300ER is the reference aircraft for Index 8\n",
    "    D_climb=D_CLIMB_B77W,\n",
    "    D_cruise=D_CRUISE_B77W,\n",
    "    D_descent=D_DESCENT_B77W,\n",
    "    PL=PL_B77W,\n",
    ")\n",
    "\n",
    "b777_300er_fuel = sum(res_b777.values())  # total fuel (sum climb+cruise+descent)\n",
    "\n",
    "b777_cabin_class_fuel = footprint_allocation_by_area(\n",
    "    fuel_per_flight=b777_300er_fuel,\n",
    "    # Standard parameters for wide-body aircraft\n",
    "    size_factor_eco=1,\n",
    "    size_factor_premiumeco=1.5,\n",
    "    size_factor_business=4.0,\n",
    "    size_factor_first=5.0,\n",
    "    # Seat configuration for B777-300ER\n",
    "    seats_eco=226,\n",
    "    seats_premiumeco=24,\n",
    "    seats_business=62,\n",
    "    seats_first=8,\n",
    "    load_factor_eco=0.841,\n",
    "    load_factor_premiumeco=0.841,\n",
    "    load_factor_business=0.841,\n",
    "    load_factor_first=0.841,\n",
    ")\n",
    "(b777_co2_eco := b777_cabin_class_fuel['fuel_eco'] * co2_factor_jetfuel)"
   ]
  },
  {
   "cell_type": "markdown",
   "id": "21ff0091",
   "metadata": {},
   "source": [
    "### [EEA Emission Inventory 2009](https://jetfuelburn.readthedocs.io/en/latest/api/reducedorder/#jetfuelburn.reducedorder.eea_emission_inventory_2009)"
   ]
  },
  {
   "cell_type": "code",
   "execution_count": 45,
   "id": "24d4a19d",
   "metadata": {},
   "outputs": [],
   "source": [
    "from jetfuelburn.reducedorder import eea_emission_inventory_2009"
   ]
  },
  {
   "cell_type": "markdown",
   "id": "8c689776",
   "metadata": {},
   "source": [
    "#### A220-300, GVA-ARN (997NM)\n",
    "\n",
    "*is not in the included aircraft types of the model*"
   ]
  },
  {
   "cell_type": "markdown",
   "id": "f19852c1",
   "metadata": {},
   "source": [
    "#### A320neo, ATH-ZRH (994NM)\n",
    "\n",
    "*not included in the aircraft types of the model, only A320ceo*"
   ]
  },
  {
   "cell_type": "markdown",
   "id": "1362f874",
   "metadata": {},
   "source": [
    "#### A330-300, JFK-ZRH (3521NM)"
   ]
  },
  {
   "cell_type": "code",
   "execution_count": 46,
   "id": "0a3a27df",
   "metadata": {},
   "outputs": [
    {
     "data": {
      "text/html": [
       "415.77032290962273 kilogram"
      ],
      "text/latex": [
       "$415.77032290962273\\ \\mathrm{kilogram}$"
      ],
      "text/plain": [
       "<Quantity(415.770323, 'kilogram')>"
      ]
     },
     "execution_count": 46,
     "metadata": {},
     "output_type": "execute_result"
    }
   ],
   "source": [
    "res_a330 = eea_emission_inventory_2009.calculate_fuel_consumption(\n",
    "    acft='A330',\n",
    "    R=3521*ureg.nmi\n",
    ")\n",
    "\n",
    "a330_300_fuel = res_a330['mass_fuel_total']\n",
    "\n",
    "a330_cabin_class_fuel = footprint_allocation_by_area(\n",
    "    fuel_per_flight=a330_300_fuel,\n",
    "    # Standard parameters for wide-body aircraft\n",
    "    size_factor_eco=1,\n",
    "    size_factor_premiumeco=1.5,\n",
    "    size_factor_business=4.0,\n",
    "    size_factor_first=5.0,\n",
    "    # Seat configuration for A330-300\n",
    "    seats_eco=183,\n",
    "    seats_premiumeco=0,\n",
    "    seats_business=45,\n",
    "    seats_first=8,\n",
    "    load_factor_eco=0.841,\n",
    "    load_factor_premiumeco=0,\n",
    "    load_factor_business=0.841,\n",
    "    load_factor_first=0.841,\n",
    ")\n",
    "(a330_co2_eco := a330_cabin_class_fuel['fuel_eco'] * co2_factor_jetfuel)"
   ]
  },
  {
   "cell_type": "markdown",
   "id": "8f400da3",
   "metadata": {},
   "source": [
    "#### A340-300, ICN-ZRH (5601NM)\n",
    "\n",
    "*closest available aircraft is the A340-200*"
   ]
  },
  {
   "cell_type": "code",
   "execution_count": 47,
   "id": "87a7449c",
   "metadata": {},
   "outputs": [
    {
     "data": {
      "text/html": [
       "756.4760887988573 kilogram"
      ],
      "text/latex": [
       "$756.4760887988573\\ \\mathrm{kilogram}$"
      ],
      "text/plain": [
       "<Quantity(756.476089, 'kilogram')>"
      ]
     },
     "execution_count": 47,
     "metadata": {},
     "output_type": "execute_result"
    }
   ],
   "source": [
    "res_a343 = eea_emission_inventory_2009.calculate_fuel_consumption(\n",
    "    acft='A342', # using A340-200 here as the closest match\n",
    "    R=5601*ureg.nmi\n",
    ")\n",
    "\n",
    "a340_300_fuel = res_a343['mass_fuel_total']\n",
    "\n",
    "a340_cabin_class_fuel = footprint_allocation_by_area(\n",
    "    fuel_per_flight=a340_300_fuel,\n",
    "    # Standard parameters for wide-body aircraft\n",
    "    size_factor_eco=1,\n",
    "    size_factor_premiumeco=1.5,\n",
    "    size_factor_business=4.0,\n",
    "    size_factor_first=5.0,\n",
    "    # Seat configuration for A340-300\n",
    "    seats_eco=144,\n",
    "    seats_premiumeco=21,\n",
    "    seats_business=42,\n",
    "    seats_first=8,\n",
    "    load_factor_eco=0.841,\n",
    "    load_factor_premiumeco=0.841,\n",
    "    load_factor_business=0.841,\n",
    "    load_factor_first=0.841,\n",
    ")\n",
    "(a340_co2_eco := a340_cabin_class_fuel['fuel_eco'] * co2_factor_jetfuel)"
   ]
  },
  {
   "cell_type": "markdown",
   "id": "b9f18b2a",
   "metadata": {},
   "source": [
    "#### B777-300ER, SFO-ZRH (5210NM)"
   ]
  },
  {
   "cell_type": "code",
   "execution_count": 48,
   "id": "8110d5f1",
   "metadata": {},
   "outputs": [
    {
     "data": {
      "text/html": [
       "527.3267980710496 kilogram"
      ],
      "text/latex": [
       "$527.3267980710496\\ \\mathrm{kilogram}$"
      ],
      "text/plain": [
       "<Quantity(527.326798, 'kilogram')>"
      ]
     },
     "execution_count": 48,
     "metadata": {},
     "output_type": "execute_result"
    }
   ],
   "source": [
    "res_b777 = eea_emission_inventory_2009.calculate_fuel_consumption(\n",
    "    acft='B777', \n",
    "    R=5210*ureg.nmi\n",
    ")\n",
    "\n",
    "b777_300er_fuel = res_b777['mass_fuel_total']\n",
    "\n",
    "b777_cabin_class_fuel = footprint_allocation_by_area(\n",
    "    fuel_per_flight=b777_300er_fuel,\n",
    "    # Standard parameters for wide-body aircraft\n",
    "    size_factor_eco=1,\n",
    "    size_factor_premiumeco=1.5,\n",
    "    size_factor_business=4.0,\n",
    "    size_factor_first=5.0,\n",
    "    # Seat configuration for B777-300ER\n",
    "    seats_eco=226,\n",
    "    seats_premiumeco=24,\n",
    "    seats_business=62,\n",
    "    seats_first=8,\n",
    "    load_factor_eco=0.841,\n",
    "    load_factor_premiumeco=0.841,\n",
    "    load_factor_business=0.841,\n",
    "    load_factor_first=0.841,\n",
    ")\n",
    "(b777_co2_eco := b777_cabin_class_fuel['fuel_eco'] * co2_factor_jetfuel)"
   ]
  },
  {
   "cell_type": "markdown",
   "id": "6f5ddd77",
   "metadata": {},
   "source": [
    "### [Seymour et al](https://jetfuelburn.readthedocs.io/en/latest/api/reducedorder/#jetfuelburn.reducedorder.seymour_etal)"
   ]
  },
  {
   "cell_type": "code",
   "execution_count": 49,
   "id": "243f5bec",
   "metadata": {},
   "outputs": [],
   "source": [
    "from jetfuelburn.reducedorder import seymour_etal"
   ]
  },
  {
   "cell_type": "markdown",
   "id": "c0a76b8f",
   "metadata": {},
   "source": [
    "#### A220-300, GVA-ARN (997NM)"
   ]
  },
  {
   "cell_type": "code",
   "execution_count": 50,
   "id": "72622322",
   "metadata": {},
   "outputs": [
    {
     "data": {
      "text/html": [
       "158.9743891807801 kilogram"
      ],
      "text/latex": [
       "$158.9743891807801\\ \\mathrm{kilogram}$"
      ],
      "text/plain": [
       "<Quantity(158.974389, 'kilogram')>"
      ]
     },
     "execution_count": 50,
     "metadata": {},
     "output_type": "execute_result"
    }
   ],
   "source": [
    "a220_300_fuel =seymour_etal.calculate_fuel_consumption(\n",
    "    acft='BCS3',\n",
    "    R=997*ureg.nmi,\n",
    ")\n",
    "\n",
    "a220_cabin_class_fuel = footprint_allocation_by_area(\n",
    "    fuel_per_flight=a220_300_fuel,\n",
    "    # Standard parameters for narrow-body aircraft\n",
    "    size_factor_eco=1,\n",
    "    size_factor_premiumeco=0,\n",
    "    size_factor_business=1.5,\n",
    "    size_factor_first=0,\n",
    "    # Seat configuration for A220-300\n",
    "    seats_eco=115,\n",
    "    seats_premiumeco=0,\n",
    "    seats_business=18,\n",
    "    seats_first=0,\n",
    "    load_factor_eco=0.841,\n",
    "    load_factor_premiumeco=0,\n",
    "    load_factor_business=0.841,\n",
    "    load_factor_first=0,\n",
    ")\n",
    "(a220_co2_eco := a220_cabin_class_fuel['fuel_eco'] * co2_factor_jetfuel)"
   ]
  },
  {
   "cell_type": "markdown",
   "id": "379ff596",
   "metadata": {},
   "source": [
    "#### A320neo, ATH-ZRH (994NM)"
   ]
  },
  {
   "cell_type": "code",
   "execution_count": 51,
   "id": "d1f51c3b",
   "metadata": {},
   "outputs": [
    {
     "data": {
      "text/html": [
       "111.4992367685541 kilogram"
      ],
      "text/latex": [
       "$111.4992367685541\\ \\mathrm{kilogram}$"
      ],
      "text/plain": [
       "<Quantity(111.499237, 'kilogram')>"
      ]
     },
     "execution_count": 51,
     "metadata": {},
     "output_type": "execute_result"
    }
   ],
   "source": [
    "a320neo_fuel =seymour_etal.calculate_fuel_consumption(\n",
    "    acft='A20N',\n",
    "    R=994*ureg.nmi,\n",
    ")\n",
    "\n",
    "a320neo_cabin_class_fuel = footprint_allocation_by_area(\n",
    "    fuel_per_flight=a320neo_fuel,\n",
    "    # Standard parameters for narrow-body aircraft\n",
    "    size_factor_eco=1,\n",
    "    size_factor_premiumeco=0,\n",
    "    size_factor_business=1.5,\n",
    "    size_factor_first=0,\n",
    "    # Seat configuration for A320neo\n",
    "    seats_eco=150,\n",
    "    seats_premiumeco=0,\n",
    "    seats_business=20,\n",
    "    seats_first=0,\n",
    "    load_factor_eco=0.841,\n",
    "    load_factor_premiumeco=0,\n",
    "    load_factor_business=0.841,\n",
    "    load_factor_first=0,\n",
    ")\n",
    "(a320neo_co2_eco := a320neo_cabin_class_fuel['fuel_eco'] * co2_factor_jetfuel)"
   ]
  },
  {
   "cell_type": "markdown",
   "id": "f8b4f0d6",
   "metadata": {},
   "source": [
    "#### A330-300, JFK-ZRH (3521NM)"
   ]
  },
  {
   "cell_type": "code",
   "execution_count": 52,
   "id": "bdd02e34",
   "metadata": {},
   "outputs": [
    {
     "data": {
      "text/html": [
       "415.73062401873915 kilogram"
      ],
      "text/latex": [
       "$415.73062401873915\\ \\mathrm{kilogram}$"
      ],
      "text/plain": [
       "<Quantity(415.730624, 'kilogram')>"
      ]
     },
     "execution_count": 52,
     "metadata": {},
     "output_type": "execute_result"
    }
   ],
   "source": [
    "a330_300_fuel = seymour_etal.calculate_fuel_consumption(\n",
    "    acft='A333',\n",
    "    R=3521*ureg.nmi,\n",
    ")\n",
    "\n",
    "a330_cabin_class_fuel = footprint_allocation_by_area(\n",
    "    fuel_per_flight=a330_300_fuel,\n",
    "    # Standard parameters for wide-body aircraft\n",
    "    size_factor_eco=1,\n",
    "    size_factor_premiumeco=1.5,\n",
    "    size_factor_business=4.0,\n",
    "    size_factor_first=5.0,\n",
    "    # Seat configuration for A330-300\n",
    "    seats_eco=183,\n",
    "    seats_premiumeco=0,\n",
    "    seats_business=45,\n",
    "    seats_first=8,\n",
    "    load_factor_eco=0.841,\n",
    "    load_factor_premiumeco=0,\n",
    "    load_factor_business=0.841,\n",
    "    load_factor_first=0.841,\n",
    ")\n",
    "(a330_co2_eco := a330_cabin_class_fuel['fuel_eco'] * co2_factor_jetfuel)"
   ]
  },
  {
   "cell_type": "markdown",
   "id": "598dc568",
   "metadata": {},
   "source": [
    "#### A340-300, ICN-ZRH (5601NM)"
   ]
  },
  {
   "cell_type": "code",
   "execution_count": 53,
   "id": "29fe9afc",
   "metadata": {},
   "outputs": [
    {
     "data": {
      "text/html": [
       "587.7688292073283 kilogram"
      ],
      "text/latex": [
       "$587.7688292073283\\ \\mathrm{kilogram}$"
      ],
      "text/plain": [
       "<Quantity(587.768829, 'kilogram')>"
      ]
     },
     "execution_count": 53,
     "metadata": {},
     "output_type": "execute_result"
    }
   ],
   "source": [
    "a340_300_fuel = seymour_etal.calculate_fuel_consumption(\n",
    "    acft='A343',\n",
    "    R=5601*ureg.nmi,\n",
    ")\n",
    "\n",
    "a340_cabin_class_fuel = footprint_allocation_by_area(\n",
    "    fuel_per_flight=a340_300_fuel,\n",
    "    # Standard parameters for wide-body aircraft\n",
    "    size_factor_eco=1,\n",
    "    size_factor_premiumeco=1.5,\n",
    "    size_factor_business=4.0,\n",
    "    size_factor_first=5.0,\n",
    "    # Seat configuration for A340-300\n",
    "    seats_eco=144,\n",
    "    seats_premiumeco=21,\n",
    "    seats_business=42,\n",
    "    seats_first=8,\n",
    "    load_factor_eco=0.841,\n",
    "    load_factor_premiumeco=0.841,\n",
    "    load_factor_business=0.841,\n",
    "    load_factor_first=0.841,\n",
    ")\n",
    "(a340_co2_eco := a340_cabin_class_fuel['fuel_eco'] * co2_factor_jetfuel)"
   ]
  },
  {
   "cell_type": "markdown",
   "id": "02c1af7d",
   "metadata": {},
   "source": [
    "#### B777-300ER, SFO-ZRH (5210NM)"
   ]
  },
  {
   "cell_type": "code",
   "execution_count": 54,
   "id": "1c9a1eaf",
   "metadata": {},
   "outputs": [
    {
     "data": {
      "text/html": [
       "456.83076891447837 kilogram"
      ],
      "text/latex": [
       "$456.83076891447837\\ \\mathrm{kilogram}$"
      ],
      "text/plain": [
       "<Quantity(456.830769, 'kilogram')>"
      ]
     },
     "execution_count": 54,
     "metadata": {},
     "output_type": "execute_result"
    }
   ],
   "source": [
    "b777_300er_fuel = seymour_etal.calculate_fuel_consumption(\n",
    "    acft='B77W',\n",
    "    R=5210*ureg.nmi,\n",
    ")\n",
    "\n",
    "b777_cabin_class_fuel = footprint_allocation_by_area(\n",
    "    fuel_per_flight=b777_300er_fuel,\n",
    "    # Standard parameters for wide-body aircraft\n",
    "    size_factor_eco=1,\n",
    "    size_factor_premiumeco=1.5,\n",
    "    size_factor_business=4.0,\n",
    "    size_factor_first=5.0,\n",
    "    # Seat configuration for B777-300ER\n",
    "    seats_eco=226,\n",
    "    seats_premiumeco=24,\n",
    "    seats_business=62,\n",
    "    seats_first=8,\n",
    "    load_factor_eco=0.841,\n",
    "    load_factor_premiumeco=0.841,\n",
    "    load_factor_business=0.841,\n",
    "    load_factor_first=0.841,\n",
    ")\n",
    "(b777_co2_eco := b777_cabin_class_fuel['fuel_eco'] * co2_factor_jetfuel)"
   ]
  },
  {
   "cell_type": "markdown",
   "id": "ba729eb7",
   "metadata": {},
   "source": [
    "### [Yanto et al](https://jetfuelburn.readthedocs.io/en/latest/api/reducedorder/#jetfuelburn.reducedorder.yanto_etal)"
   ]
  },
  {
   "cell_type": "code",
   "execution_count": 55,
   "id": "37a251f6",
   "metadata": {},
   "outputs": [],
   "source": [
    "from jetfuelburn.reducedorder import yanto_etal"
   ]
  },
  {
   "cell_type": "markdown",
   "id": "f944088c",
   "metadata": {},
   "source": [
    "#### A220-300, GVA-ARN (997NM)\n",
    "\n",
    "*aircraft not included in model*"
   ]
  },
  {
   "cell_type": "markdown",
   "id": "7d94dd13",
   "metadata": {},
   "source": [
    "#### A320neo, ATH-ZRH (994NM)\n",
    "\n",
    "*aircraft not inluded in model, only A320ceo*"
   ]
  },
  {
   "cell_type": "markdown",
   "id": "6d43f71a",
   "metadata": {},
   "source": [
    "#### A330-300, JFK-ZRH (3521NM)"
   ]
  },
  {
   "cell_type": "code",
   "execution_count": 56,
   "id": "c26f5eb2",
   "metadata": {},
   "outputs": [
    {
     "data": {
      "text/html": [
       "589.6346691259079 kilogram"
      ],
      "text/latex": [
       "$589.6346691259079\\ \\mathrm{kilogram}$"
      ],
      "text/plain": [
       "<Quantity(589.634669, 'kilogram')>"
      ]
     },
     "execution_count": 56,
     "metadata": {},
     "output_type": "execute_result"
    }
   ],
   "source": [
    "a330_300_fuel = yanto_etal.calculate_fuel_consumption(\n",
    "    acft='A333',\n",
    "    R=3521*ureg.nmi,\n",
    "    PL=26000*ureg.kg\n",
    ")\n",
    "\n",
    "a330_cabin_class_fuel = footprint_allocation_by_area(\n",
    "    fuel_per_flight=a330_300_fuel,\n",
    "    # Standard parameters for wide-body aircraft\n",
    "    size_factor_eco=1,\n",
    "    size_factor_premiumeco=1.5,\n",
    "    size_factor_business=4.0,\n",
    "    size_factor_first=5.0,\n",
    "    # Seat configuration for A330-300\n",
    "    seats_eco=183,\n",
    "    seats_premiumeco=0,\n",
    "    seats_business=45,\n",
    "    seats_first=8,\n",
    "    load_factor_eco=0.841,\n",
    "    load_factor_premiumeco=0,\n",
    "    load_factor_business=0.841,\n",
    "    load_factor_first=0.841,\n",
    ")\n",
    "(a330_co2_eco := a330_cabin_class_fuel['fuel_eco'] * co2_factor_jetfuel)"
   ]
  },
  {
   "cell_type": "markdown",
   "id": "2a2d607c",
   "metadata": {},
   "source": [
    "#### A340-300, ICN-ZRH (5601NM)"
   ]
  },
  {
   "cell_type": "code",
   "execution_count": 57,
   "id": "16797c4f",
   "metadata": {},
   "outputs": [
    {
     "data": {
      "text/html": [
       "957.9980809435592 kilogram"
      ],
      "text/latex": [
       "$957.9980809435592\\ \\mathrm{kilogram}$"
      ],
      "text/plain": [
       "<Quantity(957.998081, 'kilogram')>"
      ]
     },
     "execution_count": 57,
     "metadata": {},
     "output_type": "execute_result"
    }
   ],
   "source": [
    "a340_300_fuel = yanto_etal.calculate_fuel_consumption(\n",
    "    acft='A343',\n",
    "    R=5601*ureg.nmi,\n",
    "    PL=27000*ureg.kg\n",
    ")\n",
    "\n",
    "a340_cabin_class_fuel = footprint_allocation_by_area(\n",
    "    fuel_per_flight=a340_300_fuel,\n",
    "    # Standard parameters for wide-body aircraft\n",
    "    size_factor_eco=1,\n",
    "    size_factor_premiumeco=1.5,\n",
    "    size_factor_business=4.0,\n",
    "    size_factor_first=5.0,\n",
    "    # Seat configuration for A340-300\n",
    "    seats_eco=144,\n",
    "    seats_premiumeco=21,\n",
    "    seats_business=42,\n",
    "    seats_first=8,\n",
    "    load_factor_eco=0.841,\n",
    "    load_factor_premiumeco=0.841,\n",
    "    load_factor_business=0.841,\n",
    "    load_factor_first=0.841,\n",
    ")\n",
    "(a340_co2_eco := a340_cabin_class_fuel['fuel_eco'] * co2_factor_jetfuel)"
   ]
  },
  {
   "cell_type": "markdown",
   "id": "16123d67",
   "metadata": {},
   "source": [
    "#### B777-300ER, SFO-ZRH (5210NM)"
   ]
  },
  {
   "cell_type": "code",
   "execution_count": 58,
   "id": "b3ba4095",
   "metadata": {},
   "outputs": [
    {
     "data": {
      "text/html": [
       "577.0794251726301 kilogram"
      ],
      "text/latex": [
       "$577.0794251726301\\ \\mathrm{kilogram}$"
      ],
      "text/plain": [
       "<Quantity(577.079425, 'kilogram')>"
      ]
     },
     "execution_count": 58,
     "metadata": {},
     "output_type": "execute_result"
    }
   ],
   "source": [
    "b777_300er_fuel = yanto_etal.calculate_fuel_consumption(\n",
    "    acft='B773', #B777-300ER has the ICAO code B77W, but here B773 is used for: Boeing 777-300/300ER/333ER\n",
    "    R=5210*ureg.nmi,\n",
    "    PL=38500*ureg.kg\n",
    ")\n",
    "\n",
    "b777_cabin_class_fuel = footprint_allocation_by_area(\n",
    "    fuel_per_flight=b777_300er_fuel,\n",
    "    # Standard parameters for wide-body aircraft\n",
    "    size_factor_eco=1,\n",
    "    size_factor_premiumeco=1.5,\n",
    "    size_factor_business=4.0,\n",
    "    size_factor_first=5.0,\n",
    "    # Seat configuration for B777-300ER\n",
    "    seats_eco=226,\n",
    "    seats_premiumeco=24,\n",
    "    seats_business=62,\n",
    "    seats_first=8,\n",
    "    load_factor_eco=0.841,\n",
    "    load_factor_premiumeco=0.841,\n",
    "    load_factor_business=0.841,\n",
    "    load_factor_first=0.841,\n",
    ")\n",
    "(b777_co2_eco := b777_cabin_class_fuel['fuel_eco'] * co2_factor_jetfuel)"
   ]
  }
 ],
 "metadata": {
  "kernelspec": {
   "display_name": ".venvjfb",
   "language": "python",
   "name": "python3"
  },
  "language_info": {
   "codemirror_mode": {
    "name": "ipython",
    "version": 3
   },
   "file_extension": ".py",
   "mimetype": "text/x-python",
   "name": "python",
   "nbconvert_exporter": "python",
   "pygments_lexer": "ipython3",
   "version": "3.13.9"
  }
 },
 "nbformat": 4,
 "nbformat_minor": 5
}
