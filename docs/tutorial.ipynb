{
 "cells": [
  {
   "cell_type": "code",
   "execution_count": 1,
   "metadata": {},
   "outputs": [],
   "source": [
    "import sys\n",
    "import os\n",
    "\n",
    "module_path = os.path.abspath(\"/Users/michaelweinold/github/jetfuelburn\")\n",
    "if module_path not in sys.path:\n",
    "    sys.path.append(module_path)\n",
    "\n",
    "import pint\n",
    "ureg = pint.get_application_registry() # https://pint-pandas.readthedocs.io/en/latest/user/common.html#using-a-shared-unit-registry"
   ]
  },
  {
   "cell_type": "markdown",
   "metadata": {},
   "source": [
    "## Footprint Allocation to Travel Class"
   ]
  },
  {
   "cell_type": "code",
   "execution_count": 2,
   "metadata": {},
   "outputs": [],
   "source": [
    "from jetfuelburn.aux.allocation import footprint_allocation_by_area"
   ]
  },
  {
   "cell_type": "code",
   "execution_count": 3,
   "metadata": {},
   "outputs": [
    {
     "data": {
      "text/plain": [
       "(<Quantity(81.871345, 'kilogram')>, 0, <Quantity(221.052632, 'kilogram')>, 0)"
      ]
     },
     "execution_count": 3,
     "metadata": {},
     "output_type": "execute_result"
    }
   ],
   "source": [
    "footprint_allocation_by_area(\n",
    "        fuel_per_flight=14000*ureg.kg,\n",
    "        size_factor_eco=1,\n",
    "        size_factor_premiumeco=0,\n",
    "        size_factor_business=1.5,\n",
    "        size_factor_first=0,\n",
    "        seats_eco=154,\n",
    "        seats_premiumeco=0,\n",
    "        seats_business=24,\n",
    "        seats_first=0,\n",
    "        load_factor_eco=0.9,\n",
    "        load_factor_premiumeco=0,\n",
    "        load_factor_business=0.5,\n",
    "        load_factor_first=0,\n",
    "    )"
   ]
  },
  {
   "cell_type": "markdown",
   "metadata": {},
   "source": [
    "## Fuel Calculation\n",
    "\n",
    "### Payload-Range Diagram"
   ]
  },
  {
   "cell_type": "code",
   "execution_count": 4,
   "metadata": {},
   "outputs": [],
   "source": [
    "from jetfuelburn.diagrams import calculate_fuel_consumption_based_on_payload_range"
   ]
  },
  {
   "cell_type": "code",
   "execution_count": 5,
   "metadata": {},
   "outputs": [
    {
     "data": {
      "text/plain": [
       "(<Quantity(23527.2045, 'kilogram')>, <Quantity(54000.0, 'kilogram')>)"
      ]
     },
     "execution_count": 5,
     "metadata": {},
     "output_type": "execute_result"
    }
   ],
   "source": [
    "calculate_fuel_consumption_based_on_payload_range(\n",
    "    d=2000*ureg.nmi,\n",
    "    oew=142.4*ureg.metric_ton,\n",
    "    mtow=280*ureg.metric_ton,\n",
    "    range_point_A=500*ureg.nmi,\n",
    "    payload_point_B=54*ureg.metric_ton,\n",
    "    range_point_B=5830*ureg.nmi,\n",
    "    payload_point_C=25*ureg.metric_ton,\n",
    "    range_point_C=8575*ureg.nmi,\n",
    "    range_point_D=9620*ureg.nmi,\n",
    ")"
   ]
  },
  {
   "cell_type": "markdown",
   "metadata": {},
   "source": [
    "### Breguet Range Equation"
   ]
  },
  {
   "cell_type": "code",
   "execution_count": 6,
   "metadata": {},
   "outputs": [],
   "source": [
    "from jetfuelburn.breguet import calculate_fuel_consumption_based_on_breguet_range_equation"
   ]
  },
  {
   "cell_type": "code",
   "execution_count": 7,
   "metadata": {},
   "outputs": [
    {
     "data": {
      "text/html": [
       "16699.144206512217 kilogram"
      ],
      "text/latex": [
       "$16699.144206512217\\ \\mathrm{kilogram}$"
      ],
      "text/plain": [
       "<Quantity(16699.1442, 'kilogram')>"
      ]
     },
     "execution_count": 7,
     "metadata": {},
     "output_type": "execute_result"
    }
   ],
   "source": [
    "calculate_fuel_consumption_based_on_breguet_range_equation(\n",
    "    R=2000*ureg.nmi,\n",
    "    LD=18,\n",
    "    m_after_cruise=100*ureg.metric_ton,\n",
    "    v_cruise=800*ureg.kph,\n",
    "    TSFC_cruise=17*(ureg.mg/ureg.N/ureg.s),\n",
    ")"
   ]
  },
  {
   "cell_type": "markdown",
   "metadata": {},
   "source": [
    "### Reduced-Order Models"
   ]
  },
  {
   "cell_type": "code",
   "execution_count": 8,
   "metadata": {},
   "outputs": [],
   "source": [
    "from jetfuelburn.reducedorder import (\n",
    "    yanto_etal,\n",
    "    lee_etal,\n",
    "    seymour_etal,\n",
    "    aim2015\n",
    ")"
   ]
  },
  {
   "cell_type": "markdown",
   "metadata": {},
   "source": [
    "#### Yanto et al. (2017-2019)"
   ]
  },
  {
   "cell_type": "code",
   "execution_count": 9,
   "metadata": {},
   "outputs": [
    {
     "data": {
      "text/plain": [
       "['A318',\n",
       " 'A319',\n",
       " 'A320',\n",
       " 'A321',\n",
       " 'A332',\n",
       " 'A333',\n",
       " 'A342',\n",
       " 'A343',\n",
       " 'A345',\n",
       " 'A346']"
      ]
     },
     "execution_count": 9,
     "metadata": {},
     "output_type": "execute_result"
    }
   ],
   "source": [
    "yanto_etal.available_aircraft()[0:10]"
   ]
  },
  {
   "cell_type": "code",
   "execution_count": 10,
   "metadata": {},
   "outputs": [
    {
     "data": {
      "text/html": [
       "9790.53 kilogram"
      ],
      "text/latex": [
       "$9790.53\\ \\mathrm{kilogram}$"
      ],
      "text/plain": [
       "<Quantity(9790.53, 'kilogram')>"
      ]
     },
     "execution_count": 10,
     "metadata": {},
     "output_type": "execute_result"
    }
   ],
   "source": [
    "yanto_etal.calculate_fuel_consumption(\n",
    "    acft='A321',\n",
    "    R=2200*ureg.km,\n",
    "    PL=18*ureg.metric_ton\n",
    ")"
   ]
  },
  {
   "cell_type": "markdown",
   "metadata": {},
   "source": [
    "#### Lee et al. (2010)"
   ]
  },
  {
   "cell_type": "code",
   "execution_count": 11,
   "metadata": {},
   "outputs": [
    {
     "data": {
      "text/plain": [
       "['A319',\n",
       " 'A320',\n",
       " 'A332',\n",
       " 'AT45',\n",
       " 'B712',\n",
       " 'B732',\n",
       " 'B733',\n",
       " 'B737',\n",
       " 'B738',\n",
       " 'B744']"
      ]
     },
     "execution_count": 11,
     "metadata": {},
     "output_type": "execute_result"
    }
   ],
   "source": [
    "lee_etal.available_aircraft()[0:10]"
   ]
  },
  {
   "cell_type": "code",
   "execution_count": 12,
   "metadata": {},
   "outputs": [
    {
     "data": {
      "text/plain": [
       "(<Quantity(15555.2887, 'kilogram')>, <Quantity(5843.11231, 'kilogram')>)"
      ]
     },
     "execution_count": 12,
     "metadata": {},
     "output_type": "execute_result"
    }
   ],
   "source": [
    "lee_etal.calculate_fuel_consumption(\n",
    "    acft='B732',\n",
    "    W_E=265825*ureg.N,\n",
    "    W_MPLD=156476*ureg.N,\n",
    "    W_MTO=513422*ureg.N,\n",
    "    W_MF=142365*ureg.N,\n",
    "    S=91.09*ureg.m ** 2,\n",
    "    C_D0=0.0214,\n",
    "    C_D2=0.0462,\n",
    "    c=(2.131E-4)/ureg.s,\n",
    "    h=9144*ureg.m,\n",
    "    V=807.65*ureg.kph,\n",
    "    d=2000*ureg.nmi\n",
    ")"
   ]
  },
  {
   "cell_type": "markdown",
   "metadata": {},
   "source": [
    "#### AIM2025 (from 2015)"
   ]
  },
  {
   "cell_type": "code",
   "execution_count": 16,
   "metadata": {},
   "outputs": [
    {
     "data": {
      "text/html": [
       "117265.49056749998 kilogram"
      ],
      "text/latex": [
       "$117265.49056749998\\ \\mathrm{kilogram}$"
      ],
      "text/plain": [
       "<Quantity(117265.491, 'kilogram')>"
      ]
     },
     "execution_count": 16,
     "metadata": {},
     "output_type": "execute_result"
    }
   ],
   "source": [
    "aim2015(\n",
    "    acft_size_class=8,\n",
    "    D_climb=300*ureg.km,\n",
    "    D_cruise=(15000-300-200)*ureg.km,\n",
    "    D_descent=200*ureg.km,\n",
    "    PL=55.5*ureg.metric_ton\n",
    ")"
   ]
  },
  {
   "cell_type": "markdown",
   "metadata": {},
   "source": [
    "## Helper Functions (Aerodynamics/Atmospheric Physics)"
   ]
  },
  {
   "cell_type": "code",
   "execution_count": null,
   "metadata": {},
   "outputs": [],
   "source": [
    "from jetfuelburn.aux.physics import (\n",
    "    _calculate_atmospheric_conditions,\n",
    "    _calculate_aircraft_velocity,   \n",
    ")"
   ]
  },
  {
   "cell_type": "code",
   "execution_count": 20,
   "metadata": {},
   "outputs": [
    {
     "data": {
      "text/plain": [
       "(<Quantity(0.412715861, 'kilogram / meter ** 3')>,\n",
       " <Quantity(-50.0, 'degree_Celsius')>)"
      ]
     },
     "execution_count": 20,
     "metadata": {},
     "output_type": "execute_result"
    }
   ],
   "source": [
    "_calculate_atmospheric_conditions(altitude=10000*ureg.m)"
   ]
  },
  {
   "cell_type": "code",
   "execution_count": 18,
   "metadata": {},
   "outputs": [
    {
     "data": {
      "text/html": [
       "862.4539208478158 kilometer_per_hour"
      ],
      "text/latex": [
       "$862.4539208478158\\ \\mathrm{kilometer\\_per\\_hour}$"
      ],
      "text/plain": [
       "<Quantity(862.453921, 'kilometer_per_hour')>"
      ]
     },
     "execution_count": 18,
     "metadata": {},
     "output_type": "execute_result"
    }
   ],
   "source": [
    "_calculate_aircraft_velocity(\n",
    "    mach_number=0.8,\n",
    "    altitude=10000*ureg.m\n",
    ")"
   ]
  }
 ],
 "metadata": {
  "kernelspec": {
   "display_name": "aircraft_performance",
   "language": "python",
   "name": "python3"
  },
  "language_info": {
   "codemirror_mode": {
    "name": "ipython",
    "version": 3
   },
   "file_extension": ".py",
   "mimetype": "text/x-python",
   "name": "python",
   "nbconvert_exporter": "python",
   "pygments_lexer": "ipython3",
   "version": "3.13.0"
  }
 },
 "nbformat": 4,
 "nbformat_minor": 2
}
